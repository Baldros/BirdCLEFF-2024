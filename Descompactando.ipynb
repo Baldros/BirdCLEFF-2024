{
 "cells": [
  {
   "cell_type": "code",
   "execution_count": 2,
   "id": "7da49ea6-3038-4790-a517-e9396d329356",
   "metadata": {},
   "outputs": [],
   "source": [
    "# Bibliotecas importantes:\n",
    "import zipfile\n",
    "from tqdm import tqdm"
   ]
  },
  {
   "cell_type": "code",
   "execution_count": 3,
   "id": "188a0de9-ca64-4e4d-8e57-ba318b286343",
   "metadata": {},
   "outputs": [
    {
     "name": "stderr",
     "output_type": "stream",
     "text": [
      "Extracting: 100%|████████████████████████████████████████████████████████████████| 32907/32907 [21:04<00:00, 26.01it/s]\n"
     ]
    }
   ],
   "source": [
    "# Define o caminho para o arquivo ZIP baixado\n",
    "zip_file_path = r\"D:\\BirdCLEF\\birdclef-2024.zip\"\n",
    "\n",
    "# Define o diretório de destino para a extração\n",
    "extract_dir = r\"D:\\BirdCLEF\\birdclef_2024\"\n",
    "\n",
    "# Extraindo arquivo:\n",
    "with zipfile.ZipFile(zip_file_path, 'r') as zip_ref:\n",
    "    # Obtenha uma lista dos nomes dos arquivos no arquivo zip\n",
    "    file_list = zip_ref.namelist()\n",
    "    # Use tqdm para criar uma barra de progressão\n",
    "    for file in tqdm(file_list, desc=\"Extracting\"):\n",
    "        zip_ref.extract(file, extract_dir)"
   ]
  },
  {
   "cell_type": "code",
   "execution_count": null,
   "id": "d69ed436-9b92-49fe-aee5-e4357eb626b3",
   "metadata": {},
   "outputs": [],
   "source": []
  }
 ],
 "metadata": {
  "kernelspec": {
   "display_name": "Python 3 (ipykernel)",
   "language": "python",
   "name": "python3"
  },
  "language_info": {
   "codemirror_mode": {
    "name": "ipython",
    "version": 3
   },
   "file_extension": ".py",
   "mimetype": "text/x-python",
   "name": "python",
   "nbconvert_exporter": "python",
   "pygments_lexer": "ipython3",
   "version": "3.12.3"
  }
 },
 "nbformat": 4,
 "nbformat_minor": 5
}
