{
  "nbformat": 4,
  "nbformat_minor": 0,
  "metadata": {
    "colab": {
      "provenance": [],
      "authorship_tag": "ABX9TyMP4B/ybBDJaIaGwR4/Mm29",
      "include_colab_link": true
    },
    "kernelspec": {
      "name": "python3",
      "display_name": "Python 3"
    },
    "language_info": {
      "name": "python"
    }
  },
  "cells": [
    {
      "cell_type": "markdown",
      "metadata": {
        "id": "view-in-github",
        "colab_type": "text"
      },
      "source": [
        "<a href=\"https://colab.research.google.com/github/Baldros/BirdCLEFF-2024/blob/main/Extract_BirdCLEF.ipynb\" target=\"_parent\"><img src=\"https://colab.research.google.com/assets/colab-badge.svg\" alt=\"Open In Colab\"/></a>"
      ]
    },
    {
      "cell_type": "code",
      "execution_count": null,
      "metadata": {
        "colab": {
          "base_uri": "https://localhost:8080/"
        },
        "id": "T2_KXp8hn-vN",
        "outputId": "b37bd027-0478-45da-890e-2ab6c581c97e"
      },
      "outputs": [
        {
          "output_type": "stream",
          "name": "stdout",
          "text": [
            "Mounted at /content/drive\n"
          ]
        }
      ],
      "source": [
        "# Importação para comunicação com o Drive:\n",
        "from google.colab import drive\n",
        "\n",
        "# Acessando o Drive:\n",
        "drive.mount('/content/drive')"
      ]
    },
    {
      "cell_type": "code",
      "source": [
        "# Criando um diretório:\n",
        "!mkdir -p /root/.kaggle\n",
        "\n",
        "# Copiando o Kaggle Json:\n",
        "!cp '/content/drive/MyDrive/kaggle.json' '/root/.kaggle/'\n",
        "\n",
        "# Verificando se o arquivo foi copiado corretamente:\n",
        "!ls /root/.kaggle/"
      ],
      "metadata": {
        "colab": {
          "base_uri": "https://localhost:8080/"
        },
        "id": "FPOv196PoF-r",
        "outputId": "c8e75bf0-173b-4f27-82d9-d086dfb5e70d"
      },
      "execution_count": null,
      "outputs": [
        {
          "output_type": "stream",
          "name": "stdout",
          "text": [
            "kaggle.json\n"
          ]
        }
      ]
    },
    {
      "cell_type": "code",
      "source": [
        "!kaggle competitions download -c birdclef-2024"
      ],
      "metadata": {
        "colab": {
          "base_uri": "https://localhost:8080/"
        },
        "id": "xpdCl_kDoHZs",
        "outputId": "74ebb31d-d340-46e9-e862-bc7d02781b27"
      },
      "execution_count": null,
      "outputs": [
        {
          "output_type": "stream",
          "name": "stdout",
          "text": [
            "Downloading birdclef-2024.zip to /content\n",
            "100% 21.8G/21.8G [03:27<00:00, 96.1MB/s]\n",
            "100% 21.8G/21.8G [03:27<00:00, 113MB/s] \n"
          ]
        }
      ]
    },
    {
      "cell_type": "code",
      "source": [
        "# Importa a biblioteca para manipulação de arquivos\n",
        "from tqdm import tqdm\n",
        "import zipfile"
      ],
      "metadata": {
        "id": "HlQ3gAntoIuN"
      },
      "execution_count": null,
      "outputs": []
    },
    {
      "cell_type": "code",
      "source": [
        "# Define o caminho para o arquivo ZIP baixado\n",
        "zip_file_path = \"/content/birdclef-2024.zip\"\n",
        "\n",
        "# Define o diretório de destino para a extração\n",
        "extract_dir = \"/content/birdclef-2024\"\n",
        "\n",
        "# Extraindo arquivo:\n",
        "with zipfile.ZipFile(zip_file_path, 'r') as zip_ref:\n",
        "    # Obtenha uma lista dos nomes dos arquivos no arquivo zip\n",
        "    file_list = zip_ref.namelist()\n",
        "    # Use tqdm para criar uma barra de progressão\n",
        "    for file in tqdm(file_list, desc=\"Extracting\"):\n",
        "        zip_ref.extract(file, extract_dir)"
      ],
      "metadata": {
        "colab": {
          "base_uri": "https://localhost:8080/"
        },
        "id": "3Ad_D0Z0oJgV",
        "outputId": "fb517053-15cc-4f63-f577-49b5cb4e8f19"
      },
      "execution_count": null,
      "outputs": [
        {
          "output_type": "stream",
          "name": "stderr",
          "text": [
            "Extracting: 100%|██████████| 32907/32907 [04:45<00:00, 115.22it/s]\n"
          ]
        }
      ]
    },
    {
      "cell_type": "code",
      "source": [
        "import os\n",
        "import random\n",
        "import librosa\n",
        "import pandas as pd"
      ],
      "metadata": {
        "id": "IjR3AOsTuakL"
      },
      "execution_count": null,
      "outputs": []
    },
    {
      "cell_type": "code",
      "source": [
        "# Espécies:\n",
        "especies = ['asbfly', 'zitcis1', 'eurcoo', 'bkrfla1']\n",
        "base_path = '/content/birdclef-2024/train_audio'"
      ],
      "metadata": {
        "id": "4OrqCLw9ucKo"
      },
      "execution_count": null,
      "outputs": []
    },
    {
      "cell_type": "code",
      "source": [
        "def get_audio_files(base_path, especies, num_files=20):\n",
        "    audio_files = {}\n",
        "\n",
        "    for especie in especies:\n",
        "        # Caminho da pasta da espécie\n",
        "        especie_path = os.path.join(base_path, especie)\n",
        "\n",
        "        # Listar todos os arquivos na pasta da espécie\n",
        "        all_files = [os.path.join(especie_path, file) for file in os.listdir(especie_path) if file.endswith('.ogg')]\n",
        "\n",
        "        # Selecionar aleatoriamente 20 arquivos (ou o número total se houver menos de 20)\n",
        "        selected_files = random.sample(all_files, min(len(all_files), num_files))\n",
        "\n",
        "        # Adicionar à lista de arquivos\n",
        "        audio_files[especie] = selected_files\n",
        "\n",
        "    return audio_files"
      ],
      "metadata": {
        "id": "7LXjgDwPzmbU"
      },
      "execution_count": null,
      "outputs": []
    },
    {
      "cell_type": "code",
      "source": [
        "# Obter os caminhos dos arquivos\n",
        "audio_files = get_audio_files(base_path, especies)"
      ],
      "metadata": {
        "id": "A3fFLUfrzsY6"
      },
      "execution_count": null,
      "outputs": []
    },
    {
      "cell_type": "code",
      "source": [
        "audio_files.keys()"
      ],
      "metadata": {
        "colab": {
          "base_uri": "https://localhost:8080/"
        },
        "id": "JdGU6eYEzwES",
        "outputId": "d71591bb-0350-41d4-b638-647ca4017b9e"
      },
      "execution_count": null,
      "outputs": [
        {
          "output_type": "execute_result",
          "data": {
            "text/plain": [
              "dict_keys(['asbfly', 'zitcis1', 'eurcoo', 'bkrfla1'])"
            ]
          },
          "metadata": {},
          "execution_count": 21
        }
      ]
    },
    {
      "cell_type": "code",
      "source": [
        "# Remover pastas existentes, se houver\n",
        "!rm -rf sinais\n",
        "!rm -rf durações\n",
        "\n",
        "# Criar novas pastas\n",
        "!mkdir sinais\n",
        "!mkdir durações"
      ],
      "metadata": {
        "id": "NskP1Ijn1QNp"
      },
      "execution_count": null,
      "outputs": []
    },
    {
      "cell_type": "code",
      "source": [
        "for key in tqdm(audio_files.keys()):\n",
        "  for i,audio in enumerate(audio_files[key]):\n",
        "    y, sr = librosa.load(audio)\n",
        "    duracao = librosa.get_duration(y=y, sr=sr)\n",
        "\n",
        "    df_y = pd.DataFrame(y)\n",
        "    df_duracao = pd.DataFrame([duracao])\n",
        "\n",
        "    df_y.to_csv(f'/content/sinais/sinal_{key}_{i+1}.csv',index=False)\n",
        "    df_duracao.to_csv(f'/content/durações/duracao_{key}_{i+1}.csv',index=False)"
      ],
      "metadata": {
        "colab": {
          "base_uri": "https://localhost:8080/"
        },
        "id": "avC5k-Ncz78q",
        "outputId": "ba549b5c-5d83-4c34-c8db-a80b4dc89180"
      },
      "execution_count": null,
      "outputs": [
        {
          "output_type": "stream",
          "name": "stderr",
          "text": [
            "100%|██████████| 4/4 [01:56<00:00, 29.09s/it]\n"
          ]
        }
      ]
    },
    {
      "cell_type": "code",
      "source": [
        "def zip_directory(directory_path, zip_file_path):\n",
        "    # Cria o arquivo ZIP\n",
        "    with zipfile.ZipFile(zip_file_path, 'w', zipfile.ZIP_DEFLATED) as zipf:\n",
        "        # Percorre todos os arquivos do diretório\n",
        "        for root, dirs, files in os.walk(directory_path):\n",
        "            for file in tqdm(files, desc=\"Zipping\"):\n",
        "                # Obtém o caminho completo do arquivo\n",
        "                file_path = os.path.join(root, file)\n",
        "                # Adiciona o arquivo ao ZIP\n",
        "                zipf.write(file_path, os.path.relpath(file_path, directory_path))"
      ],
      "metadata": {
        "id": "ljzL5g7o5Hr0"
      },
      "execution_count": null,
      "outputs": []
    },
    {
      "cell_type": "code",
      "source": [
        "# Compacta o diretório\n",
        "zip_directory('/content/sinais', '/content/sinais.zip')"
      ],
      "metadata": {
        "colab": {
          "base_uri": "https://localhost:8080/"
        },
        "id": "a93u09Qm5JZC",
        "outputId": "cb7eb8f6-59d8-48df-c900-b01934d3c8bd"
      },
      "execution_count": null,
      "outputs": [
        {
          "output_type": "stream",
          "name": "stderr",
          "text": [
            "Zipping: 100%|██████████| 80/80 [01:18<00:00,  1.02it/s]\n"
          ]
        }
      ]
    },
    {
      "cell_type": "code",
      "source": [
        "zip_directory('/content/durações', '/content/duracoes.zip')"
      ],
      "metadata": {
        "colab": {
          "base_uri": "https://localhost:8080/"
        },
        "id": "rWh-y7Bg6KA4",
        "outputId": "64feb777-8113-4134-c4f5-f82cb675d6d5"
      },
      "execution_count": null,
      "outputs": [
        {
          "output_type": "stream",
          "name": "stderr",
          "text": [
            "Zipping: 100%|██████████| 80/80 [00:00<00:00, 4395.91it/s]\n"
          ]
        }
      ]
    },
    {
      "cell_type": "code",
      "source": [
        "y, sr = librosa.load('/content/birdclef-2024/train_audio/asbfly/XC134896.ogg')\n",
        "duration = librosa.get_duration(y=y, sr=sr)"
      ],
      "metadata": {
        "id": "nDmlT9hhx-72"
      },
      "execution_count": null,
      "outputs": []
    },
    {
      "cell_type": "code",
      "source": [],
      "metadata": {
        "colab": {
          "base_uri": "https://localhost:8080/"
        },
        "id": "6pdoUXKXyiiR",
        "outputId": "a6b21674-7f42-4b56-e897-903319266975"
      },
      "execution_count": null,
      "outputs": [
        {
          "output_type": "execute_result",
          "data": {
            "text/plain": [
              "27.350249433106576"
            ]
          },
          "metadata": {},
          "execution_count": 10
        }
      ]
    },
    {
      "cell_type": "code",
      "source": [
        "pd.read_csv('/content/sinais/sinal_asbfly_1.csv')"
      ],
      "metadata": {
        "colab": {
          "base_uri": "https://localhost:8080/",
          "height": 728
        },
        "id": "J2S-BIsbyjfi",
        "outputId": "a67347f0-af71-46ac-cf9e-b4f12702df6a",
        "collapsed": true
      },
      "execution_count": null,
      "outputs": [
        {
          "output_type": "execute_result",
          "data": {
            "text/plain": [
              "               0\n",
              "0      -0.000011\n",
              "1      -0.000011\n",
              "2       0.000016\n",
              "3       0.000003\n",
              "4       0.000008\n",
              "...          ...\n",
              "693500 -0.000008\n",
              "693501  0.000013\n",
              "693502  0.000022\n",
              "693503 -0.000004\n",
              "693504  0.000000\n",
              "\n",
              "[693505 rows x 1 columns]"
            ],
            "text/html": [
              "\n",
              "  <div id=\"df-e32abd94-0470-49bb-9c9b-8e5b3d31448b\" class=\"colab-df-container\">\n",
              "    <div>\n",
              "<style scoped>\n",
              "    .dataframe tbody tr th:only-of-type {\n",
              "        vertical-align: middle;\n",
              "    }\n",
              "\n",
              "    .dataframe tbody tr th {\n",
              "        vertical-align: top;\n",
              "    }\n",
              "\n",
              "    .dataframe thead th {\n",
              "        text-align: right;\n",
              "    }\n",
              "</style>\n",
              "<table border=\"1\" class=\"dataframe\">\n",
              "  <thead>\n",
              "    <tr style=\"text-align: right;\">\n",
              "      <th></th>\n",
              "      <th>0</th>\n",
              "    </tr>\n",
              "  </thead>\n",
              "  <tbody>\n",
              "    <tr>\n",
              "      <th>0</th>\n",
              "      <td>-0.000011</td>\n",
              "    </tr>\n",
              "    <tr>\n",
              "      <th>1</th>\n",
              "      <td>-0.000011</td>\n",
              "    </tr>\n",
              "    <tr>\n",
              "      <th>2</th>\n",
              "      <td>0.000016</td>\n",
              "    </tr>\n",
              "    <tr>\n",
              "      <th>3</th>\n",
              "      <td>0.000003</td>\n",
              "    </tr>\n",
              "    <tr>\n",
              "      <th>4</th>\n",
              "      <td>0.000008</td>\n",
              "    </tr>\n",
              "    <tr>\n",
              "      <th>...</th>\n",
              "      <td>...</td>\n",
              "    </tr>\n",
              "    <tr>\n",
              "      <th>693500</th>\n",
              "      <td>-0.000008</td>\n",
              "    </tr>\n",
              "    <tr>\n",
              "      <th>693501</th>\n",
              "      <td>0.000013</td>\n",
              "    </tr>\n",
              "    <tr>\n",
              "      <th>693502</th>\n",
              "      <td>0.000022</td>\n",
              "    </tr>\n",
              "    <tr>\n",
              "      <th>693503</th>\n",
              "      <td>-0.000004</td>\n",
              "    </tr>\n",
              "    <tr>\n",
              "      <th>693504</th>\n",
              "      <td>0.000000</td>\n",
              "    </tr>\n",
              "  </tbody>\n",
              "</table>\n",
              "<p>693505 rows × 1 columns</p>\n",
              "</div>\n",
              "    <div class=\"colab-df-buttons\">\n",
              "\n",
              "  <div class=\"colab-df-container\">\n",
              "    <button class=\"colab-df-convert\" onclick=\"convertToInteractive('df-e32abd94-0470-49bb-9c9b-8e5b3d31448b')\"\n",
              "            title=\"Convert this dataframe to an interactive table.\"\n",
              "            style=\"display:none;\">\n",
              "\n",
              "  <svg xmlns=\"http://www.w3.org/2000/svg\" height=\"24px\" viewBox=\"0 -960 960 960\">\n",
              "    <path d=\"M120-120v-720h720v720H120Zm60-500h600v-160H180v160Zm220 220h160v-160H400v160Zm0 220h160v-160H400v160ZM180-400h160v-160H180v160Zm440 0h160v-160H620v160ZM180-180h160v-160H180v160Zm440 0h160v-160H620v160Z\"/>\n",
              "  </svg>\n",
              "    </button>\n",
              "\n",
              "  <style>\n",
              "    .colab-df-container {\n",
              "      display:flex;\n",
              "      gap: 12px;\n",
              "    }\n",
              "\n",
              "    .colab-df-convert {\n",
              "      background-color: #E8F0FE;\n",
              "      border: none;\n",
              "      border-radius: 50%;\n",
              "      cursor: pointer;\n",
              "      display: none;\n",
              "      fill: #1967D2;\n",
              "      height: 32px;\n",
              "      padding: 0 0 0 0;\n",
              "      width: 32px;\n",
              "    }\n",
              "\n",
              "    .colab-df-convert:hover {\n",
              "      background-color: #E2EBFA;\n",
              "      box-shadow: 0px 1px 2px rgba(60, 64, 67, 0.3), 0px 1px 3px 1px rgba(60, 64, 67, 0.15);\n",
              "      fill: #174EA6;\n",
              "    }\n",
              "\n",
              "    .colab-df-buttons div {\n",
              "      margin-bottom: 4px;\n",
              "    }\n",
              "\n",
              "    [theme=dark] .colab-df-convert {\n",
              "      background-color: #3B4455;\n",
              "      fill: #D2E3FC;\n",
              "    }\n",
              "\n",
              "    [theme=dark] .colab-df-convert:hover {\n",
              "      background-color: #434B5C;\n",
              "      box-shadow: 0px 1px 3px 1px rgba(0, 0, 0, 0.15);\n",
              "      filter: drop-shadow(0px 1px 2px rgba(0, 0, 0, 0.3));\n",
              "      fill: #FFFFFF;\n",
              "    }\n",
              "  </style>\n",
              "\n",
              "    <script>\n",
              "      const buttonEl =\n",
              "        document.querySelector('#df-e32abd94-0470-49bb-9c9b-8e5b3d31448b button.colab-df-convert');\n",
              "      buttonEl.style.display =\n",
              "        google.colab.kernel.accessAllowed ? 'block' : 'none';\n",
              "\n",
              "      async function convertToInteractive(key) {\n",
              "        const element = document.querySelector('#df-e32abd94-0470-49bb-9c9b-8e5b3d31448b');\n",
              "        const dataTable =\n",
              "          await google.colab.kernel.invokeFunction('convertToInteractive',\n",
              "                                                    [key], {});\n",
              "        if (!dataTable) return;\n",
              "\n",
              "        const docLinkHtml = 'Like what you see? Visit the ' +\n",
              "          '<a target=\"_blank\" href=https://colab.research.google.com/notebooks/data_table.ipynb>data table notebook</a>'\n",
              "          + ' to learn more about interactive tables.';\n",
              "        element.innerHTML = '';\n",
              "        dataTable['output_type'] = 'display_data';\n",
              "        await google.colab.output.renderOutput(dataTable, element);\n",
              "        const docLink = document.createElement('div');\n",
              "        docLink.innerHTML = docLinkHtml;\n",
              "        element.appendChild(docLink);\n",
              "      }\n",
              "    </script>\n",
              "  </div>\n",
              "\n",
              "\n",
              "<div id=\"df-2f9f1715-e67d-4827-87ec-e4e5796f822d\">\n",
              "  <button class=\"colab-df-quickchart\" onclick=\"quickchart('df-2f9f1715-e67d-4827-87ec-e4e5796f822d')\"\n",
              "            title=\"Suggest charts\"\n",
              "            style=\"display:none;\">\n",
              "\n",
              "<svg xmlns=\"http://www.w3.org/2000/svg\" height=\"24px\"viewBox=\"0 0 24 24\"\n",
              "     width=\"24px\">\n",
              "    <g>\n",
              "        <path d=\"M19 3H5c-1.1 0-2 .9-2 2v14c0 1.1.9 2 2 2h14c1.1 0 2-.9 2-2V5c0-1.1-.9-2-2-2zM9 17H7v-7h2v7zm4 0h-2V7h2v10zm4 0h-2v-4h2v4z\"/>\n",
              "    </g>\n",
              "</svg>\n",
              "  </button>\n",
              "\n",
              "<style>\n",
              "  .colab-df-quickchart {\n",
              "      --bg-color: #E8F0FE;\n",
              "      --fill-color: #1967D2;\n",
              "      --hover-bg-color: #E2EBFA;\n",
              "      --hover-fill-color: #174EA6;\n",
              "      --disabled-fill-color: #AAA;\n",
              "      --disabled-bg-color: #DDD;\n",
              "  }\n",
              "\n",
              "  [theme=dark] .colab-df-quickchart {\n",
              "      --bg-color: #3B4455;\n",
              "      --fill-color: #D2E3FC;\n",
              "      --hover-bg-color: #434B5C;\n",
              "      --hover-fill-color: #FFFFFF;\n",
              "      --disabled-bg-color: #3B4455;\n",
              "      --disabled-fill-color: #666;\n",
              "  }\n",
              "\n",
              "  .colab-df-quickchart {\n",
              "    background-color: var(--bg-color);\n",
              "    border: none;\n",
              "    border-radius: 50%;\n",
              "    cursor: pointer;\n",
              "    display: none;\n",
              "    fill: var(--fill-color);\n",
              "    height: 32px;\n",
              "    padding: 0;\n",
              "    width: 32px;\n",
              "  }\n",
              "\n",
              "  .colab-df-quickchart:hover {\n",
              "    background-color: var(--hover-bg-color);\n",
              "    box-shadow: 0 1px 2px rgba(60, 64, 67, 0.3), 0 1px 3px 1px rgba(60, 64, 67, 0.15);\n",
              "    fill: var(--button-hover-fill-color);\n",
              "  }\n",
              "\n",
              "  .colab-df-quickchart-complete:disabled,\n",
              "  .colab-df-quickchart-complete:disabled:hover {\n",
              "    background-color: var(--disabled-bg-color);\n",
              "    fill: var(--disabled-fill-color);\n",
              "    box-shadow: none;\n",
              "  }\n",
              "\n",
              "  .colab-df-spinner {\n",
              "    border: 2px solid var(--fill-color);\n",
              "    border-color: transparent;\n",
              "    border-bottom-color: var(--fill-color);\n",
              "    animation:\n",
              "      spin 1s steps(1) infinite;\n",
              "  }\n",
              "\n",
              "  @keyframes spin {\n",
              "    0% {\n",
              "      border-color: transparent;\n",
              "      border-bottom-color: var(--fill-color);\n",
              "      border-left-color: var(--fill-color);\n",
              "    }\n",
              "    20% {\n",
              "      border-color: transparent;\n",
              "      border-left-color: var(--fill-color);\n",
              "      border-top-color: var(--fill-color);\n",
              "    }\n",
              "    30% {\n",
              "      border-color: transparent;\n",
              "      border-left-color: var(--fill-color);\n",
              "      border-top-color: var(--fill-color);\n",
              "      border-right-color: var(--fill-color);\n",
              "    }\n",
              "    40% {\n",
              "      border-color: transparent;\n",
              "      border-right-color: var(--fill-color);\n",
              "      border-top-color: var(--fill-color);\n",
              "    }\n",
              "    60% {\n",
              "      border-color: transparent;\n",
              "      border-right-color: var(--fill-color);\n",
              "    }\n",
              "    80% {\n",
              "      border-color: transparent;\n",
              "      border-right-color: var(--fill-color);\n",
              "      border-bottom-color: var(--fill-color);\n",
              "    }\n",
              "    90% {\n",
              "      border-color: transparent;\n",
              "      border-bottom-color: var(--fill-color);\n",
              "    }\n",
              "  }\n",
              "</style>\n",
              "\n",
              "  <script>\n",
              "    async function quickchart(key) {\n",
              "      const quickchartButtonEl =\n",
              "        document.querySelector('#' + key + ' button');\n",
              "      quickchartButtonEl.disabled = true;  // To prevent multiple clicks.\n",
              "      quickchartButtonEl.classList.add('colab-df-spinner');\n",
              "      try {\n",
              "        const charts = await google.colab.kernel.invokeFunction(\n",
              "            'suggestCharts', [key], {});\n",
              "      } catch (error) {\n",
              "        console.error('Error during call to suggestCharts:', error);\n",
              "      }\n",
              "      quickchartButtonEl.classList.remove('colab-df-spinner');\n",
              "      quickchartButtonEl.classList.add('colab-df-quickchart-complete');\n",
              "    }\n",
              "    (() => {\n",
              "      let quickchartButtonEl =\n",
              "        document.querySelector('#df-2f9f1715-e67d-4827-87ec-e4e5796f822d button');\n",
              "      quickchartButtonEl.style.display =\n",
              "        google.colab.kernel.accessAllowed ? 'block' : 'none';\n",
              "    })();\n",
              "  </script>\n",
              "</div>\n",
              "\n",
              "    </div>\n",
              "  </div>\n"
            ],
            "application/vnd.google.colaboratory.intrinsic+json": {
              "type": "dataframe"
            }
          },
          "metadata": {},
          "execution_count": 51
        },
        {
          "output_type": "display_data",
          "data": {
            "text/plain": [
              "<google.colab._quickchart_helpers.SectionTitle at 0x7e3d0a961b40>"
            ],
            "text/html": [
              "<h4 class=\"colab-quickchart-section-title\">Distributions</h4>\n",
              "<style>\n",
              "  .colab-quickchart-section-title {\n",
              "      clear: both;\n",
              "  }\n",
              "</style>"
            ]
          },
          "metadata": {}
        },
        {
          "output_type": "display_data",
          "data": {
            "text/plain": [
              "from matplotlib import pyplot as plt\n",
              "_df_0['0'].plot(kind='hist', bins=20, title='0')\n",
              "plt.gca().spines[['top', 'right',]].set_visible(False)"
            ],
            "text/html": [
              "      <div class=\"colab-quickchart-chart-with-code\" id=\"chart-12f79a30-dc53-4ff4-9995-9147e2fcd516\">\n",
              "        <img style=\"width: 180px;\" src=\"data:image/png;base64,iVBORw0KGgoAAAANSUhEUgAAAkMAAAGrCAYAAADDxpPpAAAAOXRFWHRTb2Z0d2FyZQBNYXRwbG90\n",
              "bGliIHZlcnNpb24zLjcuMSwgaHR0cHM6Ly9tYXRwbG90bGliLm9yZy/bCgiHAAAACXBIWXMAAA9h\n",
              "AAAPYQGoP6dpAAAiyklEQVR4nO3df2xV9f3H8deltxZRbwsFRrVcruVSnNj2UmyDVfy14RDUokhw\n",
              "RKETbRmbjFVjIX6JP0YoJqTSzRjUuPqjCysTRCP+ViKyOUGhIDWWVlZu1WJdkYIMCi2f7x9kd+uo\n",
              "W6/ec0/x83wkN+Oez73t208Ie+bcc+/1GGOMAAAALNXP7QEAAADcRAwBAACrEUMAAMBqxBAAALAa\n",
              "MQQAAKxGDAEAAKsRQwAAwGrEEAAAsBoxBAAArEYMAQAAqxFDAKxkjNG9996rs88+W2eccYYuvfRS\n",
              "7dy50+2xALiAGAJgpeXLl+v3v/+9Xn31Vf3973/XxRdfrJ/85Cf6+uuv3R4NQJwRQwCs9Mgjj+iu\n",
              "u+5SVlaWTj/9dP3mN7/R0aNH9dxzz7k9GoA4I4YAWKe9vV1NTU3Kz8+PHPN6vRo7dqy2bdvm4mQA\n",
              "3EAMAbDOgQMHJEkpKSndjg8cODCyBsAexBAA6/h8PknS/v37ux3/6quvImsA7EEMAbBOcnKyAoGA\n",
              "tmzZEjnW2dmp2tpajR071sXJALiBGAJgpXnz5mn58uXauXOnDh8+rHvvvVeJiYm6/vrr3R4NQJx5\n",
              "3R4AANxw11136eDBg/rxj3+sAwcO6MILL9Qrr7yiM8880+3RAMSZxxhj3B4CAADALbxMBgAArEYM\n",
              "AQAAqxFDAADAasQQAACwGjEEAACsRgwBAACrEUMAAMBqxFAvVFZWuj0CAABwCDHUC3v27HF7BAAA\n",
              "4BBiCAAAWI0YAgAAViOGAACA1YghAABgNWIIAABYjRgCAABWI4YAAIDViCEAAGA1YggAAFiNGAIA\n",
              "AFYjhgAAgNWIIQAAYDViCAAAWI0YAgAAViOGAACA1bxuDwAAbgosXO/Yz25aNsWxnw0gdjgzBAAA\n",
              "rEYMAQAAqxFDAADAasQQAACwGjEEAACsRgwBAACrEUMAAMBqxBAAALAaMQQAAKxGDAEAAKsRQwAA\n",
              "wGrEEAAAsBoxBAAArEYMAQAAqxFDAADAasQQAACwmqMxdNVVVyk7O1uhUEgTJkzQtm3bJEmBQECj\n",
              "R49WKBRSKBRSTU1N5DkNDQ0qKChQZmam8vLyVFdX5+gaAACwm6MxtHr1au3YsUO1tbUqLS1VUVFR\n",
              "ZK2mpka1tbWqra3VjBkzIsdLSkpUXFysXbt2qaysrNtznFgDAAB2czSGUlJSIn9ub2+Xx+P5r49v\n",
              "bW3V+++/r5tvvlmSNG3aNDU3N6uxsdGRNQAAAK/Tv2DWrFnasGGDJOmll17qdtwYo/z8fC1btkxD\n",
              "hgxRc3Oz0tLS5PWeGMvj8cjv9yscDis5OTnma8Fg8KR5Ozo61NHR0e1YV1dX7DcGAAD0CY5fQP30\n",
              "00+rublZS5YsUVlZmSRp48aN2rFjh7Zu3arBgwdr9uzZTo/Ra+Xl5UpOTu5227x5s9tjAQAAh8Tt\n",
              "3WSzZ8/Whg0b1NbWJr/fL0lKTEzUggUL9M4770iShg8frpaWFnV2dkqSjDEKh8Py+/2OrPVk0aJF\n",
              "am9v73bLz893dG8AAIB7HIuh/fv36/PPP4/cX7dunVJTU9W/f3/t378/cnzVqlUaO3asJGno0KHK\n",
              "zc1VdXW1JGnNmjVKT09XMBh0ZK0nSUlJ8vl83W4JCQkx3x8AANA3eIwxxokfvGfPHk2fPl2HDx9W\n",
              "v379NGTIEC1fvlw+n0/Tpk1TV1eXjDHKyMhQZWWlAoGAJKm+vl5FRUVqa2uTz+dTVVWVsrKyHFvr\n",
              "jdLSUlVUVMR2gwD0CYGF6x372U3Lpjj2swHEjmMx9H1CDAHfX8QQAD6BGgAAWI0YAgAAViOGAACA\n",
              "1YghAABgNWIIAABYjRgCAABWI4YAAIDViCEAAGA1YggAAFiNGAIAAFYjhgAAgNWIIQAAYDViCAAA\n",
              "WI0YAgAAViOGAACA1YghAABgNWIIAABYjRgCAABWI4YAAIDViCEAAGA1YggAAFiNGAIAAFYjhgAA\n",
              "gNWIIQAAYDViCAAAWI0YAgAAViOGAACA1YghAABgNa/bAwBAbwQWrnd7BADfU5wZAgAAViOGAACA\n",
              "1YghAABgNWIIAABYjRgCAABWI4YAAIDViCEAAGA1YggAAFiNGAIAAFYjhgAAgNUcjaGrrrpK2dnZ\n",
              "CoVCmjBhgrZt2yZJamhoUEFBgTIzM5WXl6e6urrIc+K9BgAA7OZoDK1evVo7duxQbW2tSktLVVRU\n",
              "JEkqKSlRcXGxdu3apbKysshxN9YAAIDdPMYYE49f9OSTT2rFihV67bXXFAwGtW/fPnm9XhljlJaW\n",
              "pk2bNsnn88V1LRgMnjRnR0eHOjo6uh1bvHixKisr47FNAL7BqfhFrU3Lprg9AoBecPxb62fNmqUN\n",
              "GzZIkl566SU1NzcrLS1NXu+JX+3xeOT3+xUOh5WcnBzXtZ5iqLy8XPfff3+3Y+PHj3dmcwAAgOsc\n",
              "v4D66aefVnNzs5YsWaKysjKnf913tmjRIrW3t3e75efnuz0WAABwiONnhv5p9uzZmjt3rtLT09XS\n",
              "0qLOzs7Iy1bhcFh+v18+ny+uaz1JSkpSUlJSt2MJCQnx2CIAAOACx84M7d+/X59//nnk/rp165Sa\n",
              "mqqhQ4cqNzdX1dXVkqQ1a9YoPT1dwWAw7msAAACOXUC9Z88eTZ8+XYcPH1a/fv00ZMgQLV++XKFQ\n",
              "SPX19SoqKlJbW5t8Pp+qqqqUlZUlSXFf643S0lJVVFTEeIcARIMLqAE4JW7vJjuVEUOA+4ghAE7h\n",
              "E6gBAIDViCEAAGA1YggAAFiNGAIAAFYjhgAAgNWIIQAAYDViCAAAWI0YAgAAViOGAACA1YghAABg\n",
              "NWIIAABYjRgCAABWI4YAAIDViCEAAGA1YggAAFiNGAIAAFYjhgAAgNWIIQAAYDViCAAAWI0YAgAA\n",
              "ViOGAACA1YghAABgNWIIAABYjRgCAABWI4YAAIDViCEAAGA1YggAAFiNGAIAAFYjhgAAgNWIIQAA\n",
              "YDViCAAAWI0YAgAAViOGAACA1YghAABgNWIIAABYjRgCAABWI4YAAIDViCEAAGA1x2LoyJEjmjp1\n",
              "qjIzM5WTk6OJEyeqsbFRknT55Zfr3HPPVSgUUigU0kMPPRR5XmtrqyZNmqRRo0bpggsu0MaNGx1d\n",
              "AwAAdnP0zFBxcbHq6+u1fft2FRYW6rbbbousPfTQQ6qtrVVtba1+/etfR44vXLhQ48ePV0NDg6qq\n",
              "qjRz5kwdO3bMsTUAAGA3x2Kof//+mjx5sjwejyRp/Pjxampq+p/PW716tebOnStJysvL09lnn623\n",
              "337bsbX/1NHRoQMHDnS7dXV1fctdAAAAfV3crhmqrKxUYWFh5P7ChQuVlZWlGTNmaPfu3ZKktrY2\n",
              "HTt2TMOGDYs8LhAIKBwOO7LWk/LyciUnJ3e7bd68OWb7AAAA+pa4xNDSpUvV2Nio8vJySdIzzzyj\n",
              "jz/+WDt27NCECRN0zTXXxGOMXlm0aJHa29u73fLz890eCwAAOMTxGFq+fLnWrl2rl19+WQMGDJAk\n",
              "DR8+XJLk8Xj0y1/+Urt371ZbW5tSU1Pl9Xq1d+/eyPObmprk9/sdWetJUlKSfD5ft1tCQkJM9wQA\n",
              "APQdjsZQRUWFVq1apddff10pKSmSpM7OTn3xxReRx6xZs0Y/+MEPlJqaKkmaPn26Vq5cKUnasmWL\n",
              "PvvsM1122WWOrQEAALt5nfrBn376qe68805lZGToiiuukHTirMtbb72lKVOmqKOjQ/369dPgwYP1\n",
              "wgsvRJ734IMP6pZbbtGoUaN02mmnqbq6WomJiY6tAQAAu3mMMcbtIfq60tJSVVRUuD0GYLXAwvVu\n",
              "jxC1pmVT3B4BQC/wCdQAAMBqxBAAALAaMQQAAKxGDAEAAKsRQwAAwGrEEAAAsBoxBAAArEYMAQAA\n",
              "qxFDAADAasQQAACwGjEEAACsRgwBAACrEUMAAMBqxBAAALAaMQQAAKxGDAEAAKsRQwAAwGrEEAAA\n",
              "sBoxBAAArEYMAQAAqxFDAADAalHH0KuvvurEHAAAAK6IOoYeeOABjR49WpWVlTpw4IATMwEAAMRN\n",
              "1DH05z//WX/84x+1c+dOZWZmat68efroo4+cmA0AAMBx3+qaobFjx+rxxx/XK6+8ohdffFHZ2dma\n",
              "OHGiPvzww1jPBwAA4KhvFUNvvPGGCgsLdcMNN+gXv/iF9u7dq5KSEl1//fWxng8AAMBR3mif8MMf\n",
              "/lCDBw/W/PnzdcMNNyghIUGSdOONN+qJJ56I+YAAAABOijqGqqurNW7cuB7XXn755e88EAAAQDxF\n",
              "/TLZBx98oH379kXut7W16fHHH4/pUAAAAPESdQw98sgjGjRoUOR+amqqHnnkkZgOBQAAEC9Rx5Ax\n",
              "5qRjXV1dMRkGAAAg3qKOobS0NK1evTpyv6amRmlpaTEdCgAAIF6ivoB6xYoVKiws1N133y1JGjBg\n",
              "gJ5//vmYDwYAABAPUcfQeeedp48++kj19fWSpNGjR0feXg8AAHCqiTqGJMnj8SglJUWdnZ367LPP\n",
              "JEl+vz+mgwEAAMRD1DH05JNPav78+UpMTFS/ficuOfJ4PGptbY35cAAAAE6LOoZ+85vfaMuWLRo9\n",
              "erQT8wAAAMRV1O8mGzx4MCEEAAC+N6KOoalTp2rFihVqbW3VgQMHIrf/dOTIEU2dOlWZmZnKycnR\n",
              "xIkT1djYKElqbW3VpEmTNGrUKF1wwQXauHFj5HnxXgMAAHaLOobuuecelZaWatiwYRo4cKBSUlI0\n",
              "cODAHh9bXFys+vp6bd++XYWFhbrtttskSQsXLtT48ePV0NCgqqoqzZw5U8eOHXNlDQAA2C3qGDp+\n",
              "/Hjk1tXVFfnf/9S/f39NnjxZHo9HkjR+/Hg1NTVJklavXq25c+dKkvLy8nT22Wfr7bffdmUNAADY\n",
              "LeoYkk58WeszzzwjSdq/f79aWlr+53MqKytVWFiotrY2HTt2TMOGDYusBQIBhcPhuK/1pKOjo9vL\n",
              "fwcOHODrRgAA+B77Vl/Ueuutt+q+++6TdOJb62fOnPlfn7N06VI1NjaqvLz8Ww0ZT+Xl5UpOTu52\n",
              "27x5s9tjAQAAh0QdQ4899pj++te/yufzSZJGjhypL7/88hsfv3z5cq1du1Yvv/yyBgwYoNTUVHm9\n",
              "Xu3duzfymKamJvn9/riv9WTRokVqb2/vdsvPz492mwAAwCki6hhKSkrS6aef3u2Y19vzxxVVVFRo\n",
              "1apVev3115WSkhI5Pn36dK1cuVKStGXLFn322We67LLLXFnr6b/P5/N1u/F1IwAAfH9F/aGLQ4YM\n",
              "0a5duyIXRj/55JM9nmX59NNPdeeddyojI0NXXHGFpBOh8d577+nBBx/ULbfcolGjRum0005TdXW1\n",
              "EhMTJSnuawAAwG4eY4yJ5gmNjY366U9/qrq6OqWmpsrn8+nFF1/Uueee69SMristLVVFRYXbYwBW\n",
              "Cyxc7/YIUWtaNsXtEQD0QtRnhoLBoN577z3V19fLGMO31gMAgFNa1DH0z7ekn3HGGZLEt9YDAIBT\n",
              "WtQxNG7cOHk8HhljdOTIEf3jH/9Qamoq31oPAABOSVHH0H++jX7t2rXavn17zAYCAACIp2/1CdT/\n",
              "7oYbbtD69afehY0AAADStzgz9O/fUN/V1aX33nuvx2+tBwAAOBVEHUMpKSmRa4YSEhI0atQo/fa3\n",
              "v3ViNgAAAMdFHUPHjx93Yg4AAABXfOdrhgAAAE5lUZ8Z6tevX+SrOP6dMUYej0ddXV0xGQwAACAe\n",
              "oo6hBx54QIcPH9bPf/5zSdLKlSt1+umna8GCBbGeDQAAwHFRx9Bzzz2nDz74IHJ/yZIlGjdunO65\n",
              "556YDgYAABAPUV8zdPDgwW6fNt3a2qqDBw/GdCgAAIB4ifrM0J133qmcnBxNnjxZkvTKK6/ovvvu\n",
              "i/VcAAAAcRF1DJWUlOjiiy/Whg0bJEmlpaUaM2ZMzAcDAACIh6hjSJJSU1OVlZWlyy+/XJ2dnTp6\n",
              "9KhOO+20WM8GAADguKivGXr22Wc1fvx4/exnP5Mk1dXVaerUqbGeCwAAIC6ijqHy8nJt3bpVKSkp\n",
              "kqScnBzt2bMn1nMBAADERdQxlJCQoNTU1G7HeIkMAACcqqKOobPOOktffPFF5FOo33zzTQ0aNCjm\n",
              "gwEAAMRD1BdQP/jgg7r66qu1e/duXXLJJfrb3/6m9evXOzEbAACA46KKoePHj6urq0sbNmzQX/7y\n",
              "FxljVFBQELl+CAAA4FQTVQz169dPxcXF2r59u66++mqnZgIAAIibqK8ZGjVqlBobG52YBQAAIO6i\n",
              "vmZo3759CoVCKigo0Jlnnhk5vnbt2pgOBgAAEA+9jqHi4mI99thjmj17tq677joNHDjQybkAAADi\n",
              "otcx9P7770uSZs+erdzcXG3dutWxoQAAAOIl6muGJMkYE+s5AAAAXNHrM0OHDx/Whx9+KGOMjhw5\n",
              "EvnzP2VnZzsyIAAAgJOiiqHrrrsucv/f/+zxeLR79+7YTgYAABAHvY6hpqYmB8cAAABwx7e6ZggA\n",
              "AOD7ghgCAABWI4YAAIDViCEAAGA1YggAAFiNGAIAAFYjhgAAgNWIIQAAYDVHY2j+/PkKBALyeDyq\n",
              "ra2NHA8EAho9erRCoZBCoZBqamoiaw0NDSooKFBmZqby8vJUV1fn6BoAALCbozF04403atOmTRox\n",
              "YsRJazU1NaqtrVVtba1mzJgROV5SUqLi4mLt2rVLZWVlKioqcnQNAADYzWPi8BX0gUBA69atUygU\n",
              "6vH+P7W2tioYDGrfvn3yer0yxigtLU2bNm2Sz+eL+VowGDxp1o6ODnV0dHQ7tnjxYlVWVjq1PQB6\n",
              "IbBwvdsjRK1p2RS3RwDQC65dMzRr1ixlZWVpzpw5+vLLLyVJzc3NSktLk9d74ivTPB6P/H6/wuGw\n",
              "I2s9KS8vV3Jycrfb5s2bnd4OAADgEldiaOPGjdqxY4e2bt2qwYMHa/bs2W6M0aNFixapvb292y0/\n",
              "P9/tsQAAgEN6/a31seT3+yVJiYmJWrBggTIzMyVJw4cPV0tLizo7OyMvaYXDYfn9fvl8vpiv9SQp\n",
              "KUlJSUndjiUkJDi7IQAAwDVxPzN06NAh7d+/P3J/1apVGjt2rCRp6NChys3NVXV1tSRpzZo1Sk9P\n",
              "VzAYdGQNAADA0QuoS0pKtH79eu3du1epqak666yz9Nprr2natGnq6uqSMUYZGRmqrKxUIBCQJNXX\n",
              "16uoqEhtbW3y+XyqqqpSVlaWY2u9UVpaqoqKithuDoCocAE1AKfE5d1kpzpiCHAfMQTAKXwCNQAA\n",
              "sBoxBAAArEYMAQAAqxFDAADAasQQAACwGjEEAACsRgwBAACrEUMAAMBqxBAAALAaMQQAAKxGDAEA\n",
              "AKsRQwAAwGrEEAAAsBoxBAAArEYMAQAAqxFDAADAasQQAACwGjEEAACsRgwBAACrEUMAAMBqxBAA\n",
              "ALAaMQQAAKxGDAEAAKsRQwAAwGrEEAAAsBoxBAAArEYMAQAAqxFDAADAasQQAACwGjEEAACsRgwB\n",
              "AACrEUMAAMBqxBAAALAaMQQAAKxGDAEAAKsRQwAAwGrEEAAAsBoxBAAArOZoDM2fP1+BQEAej0e1\n",
              "tbWR4w0NDSooKFBmZqby8vJUV1fn2hoAALCbozF04403atOmTRoxYkS34yUlJSouLtauXbtUVlam\n",
              "oqIi19YAAIDdPMYY4/QvCQQCWrdunUKhkFpbWxUMBrVv3z55vV4ZY5SWlqZNmzbJ5/PFdS0YDJ40\n",
              "a0dHhzo6OrodW7x4sSorK53eJgD/RWDherdHiFrTsilujwCgF+J+zVBzc7PS0tLk9XolSR6PR36/\n",
              "X+FwOO5rPSkvL1dycnK32+bNm53eFgAA4BIuoP4PixYtUnt7e7dbfn6+22MBAACHeOP9C4cPH66W\n",
              "lhZ1dnZGXrYKh8Py+/3y+XxxXetJUlKSkpKSuh1LSEiIx9YAAAAXxP3M0NChQ5Wbm6vq6mpJ0po1\n",
              "a5Senq5gMBj3NQAAAEcvoC4pKdH69eu1d+9epaam6qyzzlJjY6Pq6+tVVFSktrY2+Xw+VVVVKSsr\n",
              "S5LivtYbpaWlqqioiPHuAIgGF1ADcEpc3k12qiOGAPcRQwCcwgXUAADAasQQAACwGjEEAACsRgwB\n",
              "AACrEUMAAMBqxBAAALAaMQQAAKxGDAEAAKsRQwAAwGrEEAAAsBoxBAAArEYMAQAAqxFDAADAasQQ\n",
              "AACwGjEEAACsRgwBAACrEUMAAMBqxBAAALAaMQQAAKxGDAEAAKsRQwAAwGrEEAAAsBoxBAAArEYM\n",
              "AQAAqxFDAADAasQQAACwGjEEAACsRgwBAACrEUMAAMBqxBAAALAaMQQAAKxGDAEAAKsRQwAAwGrE\n",
              "EAAAsBoxBAAArEYMAQAAqxFDAADAasQQAACwGjEEAACs5loMBQIBjR49WqFQSKFQSDU1NZKkhoYG\n",
              "FRQUKDMzU3l5eaqrq4s8x4k1AABgN1fPDNXU1Ki2tla1tbWaMWOGJKmkpETFxcXatWuXysrKVFRU\n",
              "FHm8E2sAAMBuHmOMceMXBwIBrVu3TqFQKHKstbVVwWBQ+/btk9frlTFGaWlp2rRpk3w+X8zXgsHg\n",
              "SXN1dHSoo6Oj27HFixersrLS6S0B8F8EFq53e4SoNS2b4vYIAHrB1TNDs2bNUlZWlubMmaMvv/xS\n",
              "zc3NSktLk9frlSR5PB75/X6Fw2FH1npSXl6u5OTkbrfNmzfHYTcAAIAbXIuhjRs3aseOHdq6dasG\n",
              "Dx6s2bNnuzVKN4sWLVJ7e3u3W35+vttjAQAAh3jd+sV+v1+SlJiYqAULFigzM1PDhw9XS0uLOjs7\n",
              "Iy9phcNh+f1++Xy+mK/1JCkpSUlJSd2OJSQkOL4fAADAHa6cGTp06JD2798fub9q1SqNHTtWQ4cO\n",
              "VW5urqqrqyVJa9asUXp6uoLBoCNrAAAArlxAvXv3bk2bNk1dXV0yxigjI0OVlZUKBAKqr69XUVGR\n",
              "2tra5PP5VFVVpaysLElyZK03SktLVVFREfuNANBrXEANwCmuvZvsVEIMAe4jhgA4hU+gBgAAViOG\n",
              "AACA1YghAABgNWIIAABYjRgCAABWI4YAAIDViCEAAGA1YggAAFiNGAIAAFYjhgAAgNWIIQAAYDVi\n",
              "CAAAWI0YAgAAViOGAACA1YghAABgNWIIAABYjRgCAABWI4YAAIDViCEAAGA1YggAAFiNGAIAAFYj\n",
              "hgAAgNWIIQAAYDViCAAAWI0YAgAAViOGAACA1YghAABgNWIIAABYjRgCAABWI4YAAIDViCEAAGA1\n",
              "YggAAFiNGAIAAFYjhgAAgNWIIQAAYDViCAAAWI0YAgAAViOGAACA1ayJoYaGBhUUFCgzM1N5eXmq\n",
              "q6tzeyQAANAHWBNDJSUlKi4u1q5du1RWVqaioiK3RwIAAH2Axxhj3B7Caa2trQoGg9q3b5+8Xq+M\n",
              "MUpLS9OmTZsUDAa7Pbajo0MdHR3dji1evFiVlZXxHBlwVGDherdHQB/VtGyK2yMAced1e4B4aG5u\n",
              "VlpamrzeE/+5Ho9Hfr9f4XD4pBgqLy/X/fff3+3Yeeedp9LS0u80Q1dXlzZv3qz8/HwlJCR8p59l\n",
              "C/YsOtHs1w1xmqmv4+/YyUpL3/yv6+xZ9Niz6MVqz0aMGKFf/epX//NxVpwZ+uCDDzRz5kzV19dH\n",
              "juXn52vZsmW68soruz22pzNDSUlJSkpK+k4zHDhwQMnJyWpvb5fP5/tOP8sW7Fl02K/osWfRY8+i\n",
              "x55FL957ZsWZoeHDh6ulpUWdnZ2Rl8nC4bD8fv9Jj41F+AAAgFOHFRdQDx06VLm5uaqurpYkrVmz\n",
              "Runp6Se9RAYAAOxjxZkhSXr00UdVVFSkpUuXyufzqaqqyu2RAABAH2BNDI0ePVrvvvuua78/KSlJ\n",
              "9957Ly/BRYE9iw77FT32LHrsWfTYs+jFe8+suIAaAADgm1hxzRAAAMA3IYYAAIDViCEAAGA1YggA\n",
              "AFiNGHLQ8ePHdccdd2jkyJEKBoN6+OGHv/GxV111lbKzsxUKhTRhwgRt27YtjpP2Db3dryNHjmjq\n",
              "1KnKzMxUTk6OJk6cqMbGxjhP2zdE83ds/vz5CgQC8ng8qq2tjd+QfUBDQ4MKCgqUmZmpvLw81dXV\n",
              "9fi4J554QqNGjdLIkSN1++2369ixY3GetO/ozZ41NTXp8ssvV3JyskKhUPyH7GN6s2dvvfWW8vPz\n",
              "df7552vMmDG6++67dfz4cRem7Rt6s2fvvvuuQqGQQqGQxowZo5KSkpO+KeI7M3DMU089Za688krT\n",
              "2dlp2trajN/vNzt37uzxsV999VXkz2vXrjXZ2dlxmrLv6O1+HT582Kxfv94cP37cGGPM7373O3PZ\n",
              "ZZfFedq+IZq/Y2+//bZpbm42I0aMMNu2bYvvoC674oorTFVVlTHGmD/96U/mwgsvPOkxu3fvNmlp\n",
              "aaalpcUcP37cXHvttebhhx+O86R9R2/2rK2tzbzzzjvmxRdfNDk5OfEdsA/qzZ5t3brVfPLJJ8aY\n",
              "E/+WXXzxxZHn2Kg3e3bo0CFz9OhRY4wxXV1dZurUqaaioiKmc3BmyEE1NTW6/fbblZCQoEGDBmnG\n",
              "jBlatWpVj49NSUmJ/Lm9vV0ejydOU/Ydvd2v/v37a/LkyZE9Gj9+vJqamuI8bd8Qzd+xSy+9VOnp\n",
              "6XGe0H2tra16//33dfPNN0uSpk2bpubm5pPOJj777LO67rrrNGzYMHk8Hs2dO/cb9/L7rrd7NmjQ\n",
              "IF1yySU644wz3BizT+ntno0dO1YZGRmSTvxbFgqFrP33q7d7NmDAACUmJkqSjh49qsOHD8f8/yOJ\n",
              "IQeFw2GNGDEicj8QCCgcDn/j42fNmqXhw4dr8eLFeuaZZ+IxYp8S7X79U2VlpQoLC50crc/6tntm\n",
              "k+bmZqWlpcnrPfEZsx6PR36//6R9Yi//pbd7hn/5Nnu2d+9ePfvss7rmmmviNWafEs2eNTU1KScn\n",
              "R4MHD1ZycrLmzZsX01ms+QRqJ1x00UVqaGjoce3bXPPz9NNPS5KeeuoplZWV6aWXXvpO8/U1sd4v\n",
              "SVq6dKkaGxv15ptvfpfR+iwn9gyA+w4cOKBrr71Wd999ty688EK3x+nzAoGAtm/frq+//lo333yz\n",
              "1q5dq5tuuilmP58Y+g7+19d7+P1+7dmzRxdddJGkE2Xr9/v/58+dPXu25s6dq7a2NqWmpsZk1r4g\n",
              "1vu1fPlyrV27Vm+88YYGDBgQ01n7Cqf+jtlk+PDhamlpUWdnp7xer4wxCofDJ+2T3+/XJ598Erlv\n",
              "8172ds/wL9Hs2cGDBzVp0iQVFhaqtLTUhWn7hm/z9+zMM8/UTTfdpD/84Q8xjSFeJnPQ9OnT9fjj\n",
              "j6urq0v79u1TTU2NZsyYcdLj9u/fr88//zxyf926dUpNTdWgQYPiOa7rertfklRRUaFVq1bp9ddf\n",
              "73a9lW2i2TNbDR06VLm5uaqurpYkrVmzRunp6QoGg90eN23aNL3wwgvau3evjDFauXJlTP+xPZX0\n",
              "ds/wL73ds6+//lqTJk3SpEmT9H//939ujNpn9HbPGhsbI+/sPHr0qJ577jllZ2fHdpiYXo6Nbjo7\n",
              "O828efPMueeeazIyMsyKFSsia88//7yZM2eOMcaYpqYmk5eXZy644AKTnZ1tfvSjH1n3bh9jer9f\n",
              "zc3NRpLJyMgwOTk5Jicnx+Tn57s1tqt6u2fGGFNcXGzOOecck5CQYIYOHWpGjhzpxsiu+Pjjj834\n",
              "8ePNqFGjzLhx48yOHTuMMcbMmTPHPP/885HHPfbYYyYjI8NkZGSYW2+9NfIOFhv1Zs8OHTpkzjnn\n",
              "HDN48GCTmJhozjnnHLNw4UI3x3ZVb/ZsyZIlxuv1Rv7tysnJMUuWLHFzbFf1Zs8effRRM2bMGJOd\n",
              "nW3OP/98c8cdd5jDhw/HdA6+qBUAAFiNl8kAAIDViCEAAGA1YggAAFiNGAIAAFYjhgAAgNWIIQAA\n",
              "YDViCAAAWI0YAgAAViOGAACA1YghAABgtf8HtVyMK5Mk65sAAAAASUVORK5CYII=\n",
              "\">\n",
              "      </div>\n",
              "      <script type=\"text/javascript\">\n",
              "        (() => {\n",
              "          const chartElement = document.getElementById(\"chart-12f79a30-dc53-4ff4-9995-9147e2fcd516\");\n",
              "          async function getCodeForChartHandler(event) {\n",
              "            const chartCodeResponse =  await google.colab.kernel.invokeFunction(\n",
              "                'getCodeForChart', [\"chart-12f79a30-dc53-4ff4-9995-9147e2fcd516\"], {});\n",
              "            const responseJson = chartCodeResponse.data['application/json'];\n",
              "            await google.colab.notebook.addCell(responseJson.code, 'code');\n",
              "          }\n",
              "          chartElement.onclick = getCodeForChartHandler;\n",
              "        })();\n",
              "      </script>\n",
              "      <style>\n",
              "        .colab-quickchart-chart-with-code  {\n",
              "            display: block;\n",
              "            float: left;\n",
              "            border: 1px solid transparent;\n",
              "        }\n",
              "\n",
              "        .colab-quickchart-chart-with-code:hover {\n",
              "            cursor: pointer;\n",
              "            border: 1px solid #aaa;\n",
              "        }\n",
              "      </style>"
            ]
          },
          "metadata": {}
        },
        {
          "output_type": "display_data",
          "data": {
            "text/plain": [
              "<google.colab._quickchart_helpers.SectionTitle at 0x7e3d0a962b30>"
            ],
            "text/html": [
              "<h4 class=\"colab-quickchart-section-title\">Values</h4>\n",
              "<style>\n",
              "  .colab-quickchart-section-title {\n",
              "      clear: both;\n",
              "  }\n",
              "</style>"
            ]
          },
          "metadata": {}
        },
        {
          "output_type": "display_data",
          "data": {
            "text/plain": [
              "from matplotlib import pyplot as plt\n",
              "_df_1['0'].plot(kind='line', figsize=(8, 4), title='0')\n",
              "plt.gca().spines[['top', 'right']].set_visible(False)"
            ],
            "text/html": [
              "      <div class=\"colab-quickchart-chart-with-code\" id=\"chart-fb9507f0-9a4f-4ae4-9698-f399250e143a\">\n",
              "        <img style=\"width: 180px;\" src=\"data:image/png;base64,iVBORw0KGgoAAAANSUhEUgAAAqQAAAFuCAYAAABX3QrmAAAAOXRFWHRTb2Z0d2FyZQBNYXRwbG90\n",
              "bGliIHZlcnNpb24zLjcuMSwgaHR0cHM6Ly9tYXRwbG90bGliLm9yZy/bCgiHAAAACXBIWXMAAA9h\n",
              "AAAPYQGoP6dpAAAyvklEQVR4nO3de3xU9Z3/8fdkJhdyhQABJJlESAKKQEASuXijitrWBVvL4raK\n",
              "bMvl8bNq+6N9aPmpa7u14G+17NpqKxXlty6rxQpYqtjWC+ulggEFVFC5SEiAYICQG0kmmZnz+wNN\n",
              "CZkkJDkz37m8no/HPExmTs58PJwz5z3f8/1+j8OyLEsAAACAIXGmCwAAAEBsI5ACAADAKAIpAAAA\n",
              "jCKQAgAAwCgCKQAAAIwikAIAAMAoAikAAACMIpACAADAKAIpAAAAjCKQAgAAwCgCKQAYZlmW7r//\n",
              "fp133nlKSUnR5Zdfro8++sh0WQAQMgRSADDs4Ycf1lNPPaW//OUvOn78uKZNm6Zrr71WDQ0NpksD\n",
              "gJAgkAKAYb/5zW/04x//WGPHjlW/fv3085//XC0tLVq/fr3p0gAgJAikAGBQbW2tysrKVFJS0vac\n",
              "y+XShAkTtH37doOVAUDoEEgBwKC6ujpJUv/+/ds9P2DAgLbXACDaEUgBwKD09HRJUk1NTbvnT548\n",
              "2fYaAEQ7AikAGJSRkaG8vDxt3bq17Tmv16sdO3ZowoQJBisDgNAhkAKAYbfddpsefvhhffTRR2pq\n",
              "atL999+v+Ph4feMb3zBdGgCEhMt0AQAQ63784x+rvr5eV199terq6jRp0iT9+c9/VmpqqunSACAk\n",
              "HJZlWaaLAAAAQOzikj0AAACMIpACAADAKAIpAAAAjCKQAgAAwCgCKQAAAIwikAIAAMAoAikAAACM\n",
              "iuhA+sgjj5guAQAAAH0U0YH04MGDpksAAABAH0V0IAUAAEDkI5ACAADAKAIpAAAAjCKQAgAAwCgC\n",
              "KQAAAIwKSiDdu3evpk6dqsLCQhUXF2vXrl0dltm8ebOKiopUVFSkMWPGaNGiRfJ4PMEoBwAAAGEs\n",
              "KIF00aJFWrhwofbs2aO7775b8+bN67DM+PHjtXXrVu3YsUMffvihqqqq9Jvf/CYY5QAAACCM2R5I\n",
              "q6qqtG3bNt18882SpBtvvFEVFRXat29fu+WSk5MVHx8vSWppaVFTU5McDofd5QAAACDM2R5IKyoq\n",
              "NGzYMLlcLkmSw+GQ2+1WeXl5h2XLyso0fvx4DRo0SBkZGbrttts6Xa/H41FdXV27h8/ns7t8AAAA\n",
              "hJjRQU15eXnauXOnjh49Ko/Ho3Xr1nW67LJly5SRkdHuUVpaGsJqAQAAEAy2B9KcnBxVVlbK6/VK\n",
              "kizLUnl5udxud6d/k5qaqptuukn//d//3ekyS5YsUW1tbbtHSUmJ3eUDAAAgxGwPpFlZWZo4caJW\n",
              "r14tSVq7dq2ys7OVn5/fbrl9+/aptbVV0uk+pOvXr9e4ceM6XW9iYqLS09PbPZxOp93lAwCAXjjR\n",
              "4NEdz27X3/YdN10KIlBQLtmvWLFCK1asUGFhoR588EGtWrVKkjR//nxt2LBBkvT6669rwoQJGj9+\n",
              "vCZMmKAhQ4bovvvuC0Y5AAAgyH7+4m79aecRfWflu6ZLQQRyBWOlo0aN0ubNmzs8v3LlyrafFy5c\n",
              "qIULFwbj7QEAQIgdrmkyXQIiGHdqAgAAgFEEUgAAABhFIAUAAIBRBFIAAAAYRSAFAACAUQRSAAAA\n",
              "GEUgBQAAfeaQw3QJiGAEUgAAABhFIAUAAIBRBFIAAAAYRSAFAACAUQRSAAAAGEUgBQAAgFEEUgAA\n",
              "0HfM+oQ+IJACAADAKAIpAAAAjCKQAgAAwCgCKQAA6LMjNU2mS0AEI5ACAIA+O3SSQIreI5ACCEuW\n",
              "ZWlnRY0aW7ymSwEABBmBFEBYWvf+Yc167G+68bebTZcCAAgyAimAsPSH9yokSR9X1hmuBAAQbARS\n",
              "AGFpy2fVpksAAIQIgRQAAABGEUgBAABgFIEUAAAARhFIAQAAYBSBFAAAAEYRSAEAAGAUgRQAAABG\n",
              "EUgBAABgFIEUAAAARhFIAQAAYBSBFAAAAEYRSAEAAGAUgRQAAABGEUgBAABgFIEUAAAARhFIAQAA\n",
              "YFRQAunevXs1depUFRYWqri4WLt27eqwzOuvv66SkhJdeOGFGjNmjO666y75/f5glAMAAIAwFpRA\n",
              "umjRIi1cuFB79uzR3XffrXnz5nVYZsCAAfr973+v3bt367333tM777yjp59+OhjlAAAAIIzZHkir\n",
              "qqq0bds23XzzzZKkG2+8URUVFdq3b1+75SZMmKARI0ZIkpKSklRUVKSysjK7ywEAAECYc9m9woqK\n",
              "Cg0bNkwu1+lVOxwOud1ulZeXKz8/P+DfHD16VM8//7xefPHFTtfr8Xjk8XjaPefz+ewrHAAAAEYY\n",
              "H9RUV1enf/iHf9Bdd92lSZMmdbrcsmXLlJGR0e5RWloawkoBAAAQDLYH0pycHFVWVsrr9UqSLMtS\n",
              "eXm53G53h2Xr6+t13XXXadasWVq8eHGX612yZIlqa2vbPUpKSuwuHwAAACFmeyDNysrSxIkTtXr1\n",
              "aknS2rVrlZ2d3eFyfUNDg6677jpdd911uvfee7tdb2JiotLT09s9nE6n3eUDAAAgxIJyyX7FihVa\n",
              "sWKFCgsL9eCDD2rVqlWSpPnz52vDhg2SpEceeUSlpaVat26dioqKVFRUpF/84hfBKAcAAABhzPZB\n",
              "TZI0atQobd68ucPzK1eubPv5nnvu0T333BOMtwcAAEAEMT6oCQAAALGNQAoAAACjCKQxxrIsNbZ4\n",
              "TZcBAADQhkAaY+78/Q5d+C9/0Z7P602XAgAAIIlAGnP+tPOIJOnJtw4YrgQAAOA0AikAAACMIpAC\n",
              "AADAKAIpAAAAjCKQAgAAwCgCKQAAAIwikAJhZvP+E/rphl1qavGZLiVsfF7XbLoEAEAQBeVe9gh/\n",
              "lizTJaAT//TEFklSepJLi68ZZbia8NDg8WqI6SIAAEFDCykQpg5WN5ouAQCAkCCQAmHKohEbABAj\n",
              "CKQAAAAwikAKhCkaSAEAsYJAGqb8fkt5P3lJeT95yXQpAAAAQUUgDVPPv3fIdAkAAAAhQSANU6da\n",
              "vKZLgGEWo5oAADGCQBqjyDrh75SHLyUAgNhAIAXC1KZPj5kuAQCAkCCQAgAAwCgCaYw6XNN0zsv6\n",
              "/Zb2fl5Pn0YAABAUBNIwdfjk3wNjfXOr7et/Z/+Jc172n57Yohn//qaWrPvQ9joAAAAIpGHqxKmW\n",
              "tp/fO3jSYCXSuweqJUm/31phtA4AABCdCKQAwh7dRQAguhFIw5TDdAFAGHnxg0rTJQAAgohAGgFo\n",
              "G0KsK69uNF0CACCICKQAAAAwikAKAAAAowikAAAAMIpAGq7OHNVEJ1IAABDFCKRhysE4ewAAECMI\n",
              "pGHKOrNZlGx6zpivEgCAyEMgRdRY9F/b9M3fviOfn1AadfgnBYCo5jJdAALjkn3P/WXX55Kkjyvr\n",
              "dNHwDMPVAACAc0ULKaLOsQaP6RIAAEAPEEjDlINR9j3S3Opr+/mlCL7N5PvlJ02XAABAyBFIERUa\n",
              "PN62n5tafF0sGd4+qKgxXQIAACEXlEC6d+9eTZ06VYWFhSouLtauXbs6LFNWVqYrr7xSGRkZKioq\n",
              "CkYZEa2pNXJDFQAAQE8EJZAuWrRICxcu1J49e3T33Xdr3rx5HZZJT0/XAw88oGeeeSYYJUS8SL7s\n",
              "bMKZsz1ZEdzH4WRjq+kSAAAIOdsDaVVVlbZt26abb75ZknTjjTeqoqJC+/bta7dcZmamLr30UqWk\n",
              "pNhdAmLQ7so60yXY4j83l5kuISydavF2vxAAIGLZPu1TRUWFhg0bJpfr9KodDofcbrfKy8uVn5/f\n",
              "6/V6PB55PO1HT/t8XNbGacfr/75vRPKUWX7mUA3oyym9AADRKWIGNS1btkwZGRntHqWlpabLQhiK\n",
              "5Ev25FEAQCyyPZDm5OSosrJSXu/pS2yWZam8vFxut7tP612yZIlqa2vbPUpKSuwoGVGg8YxBYEdq\n",
              "mg1W0jdnzhYAAECssD2QZmVlaeLEiVq9erUkae3atcrOzu7T5XpJSkxMVHp6eruH0+m0o+SwF8kt\n",
              "fiFzxqgmj9dvsBAAANBTQblkv2LFCq1YsUKFhYV68MEHtWrVKknS/PnztWHDBklSY2OjsrOzNXv2\n",
              "bO3evVvZ2dlasmRJMMqJeBZ5tFtnbqKPo2SAEwAAsSIo97IfNWqUNm/e3OH5lStXtv2cnJysQ4cO\n",
              "BePto04LLX7d+uzYKdMlAACAXoqYQU2x7IUdh02XEPb+sK3CdAkAAKCXCKQRoNHgrTAZZAMAAIKN\n",
              "QIouWRHSgTUyqgQAAIEQSCNADbeT7JbJVmQAAHrL77f0nZVbdPfzH5guxSgCaQT48HCt6RIAAEAQ\n",
              "fHC4Vn/bd0JrYnwsBIEUXXI4Ivc2nAAAhDsft+iTRCAFEIaa6IIBADGFQIoeOdHgMV0CYgBz7wJA\n",
              "bCGQokvH6tsH0PXbmRMVwcftcgEgthBI0aUDxxva/X6MFlIAAGAzAil6JI5BTgiBCJn+FgD6jNPq\n",
              "aQRS9AjHDUKBPArELp/f0kN/+URv7T1mupSQYJT9aQRS9Ajf5BAKkXKHMAD2W/veIT22ab9uebLU\n",
              "dCkh8dbe46ZLCAsEUnTJcVab6Nm/A8FAHAViV8XJRtMlhJSfFlJJBFL0EC2kCAUaSAEgthBI0SPc\n",
              "uQkAcLbaplbb1hVrX0g5rZ5GIEXXzjpQyo6fMlMHYgrzkAKRo7nVp/E/+6tt6ys9UG3buiIBefQ0\n",
              "Aim6dPaBsmHnESN1IMaQR4GIcbS22db11Xu8tq4PkYFAih7h0gJCgTwaezxen3712l59dLjWdCno\n",
              "IbvPC5xmYhOBFF367Fj7S/R8UCAUPj1ab7oEhNjv3vhMy1/Zo+t//bbpUtBDgWZfafH6e72+uFhL\n",
              "JrT0SCKQohuv7P683e/cqQmhcKSmyXQJCLGPj9aZLgG9FOi08HFl7/89Y+08E1v/t50jkKJHYuxz\n",
              "AkCIeH101IgmfRl1/8Gh2Oq24Y+1aQU6QSBFl84e7czE+AgFPp5jz1/PuhqDyBGooYKQdW7e2HNM\n",
              "v359n+kywgKBFD1DHkUIcC4DIkdNY8fWUA7h7u06Uqtbn2p/e9RWX+/73kY6l+kCEN7ODgbkUYRC\n",
              "NM5DuvHDSr2w/bAe/sfxSk+KN10O0Ce3PlWqdw+c0E3Fbm0vP2m6nIgUaPDmq7s/11fHDjNQjXm0\n",
              "kKJLHQIpiRQhEI23dr7tv9/XX3d/rl+/ttd0KUCftPr8emPPMTW3+vX/3inTzkB9PqPwGLZboCtB\n",
              "rdH44XeOCKQxpC+jHoGQiuJr9q99XGW6BKBPzmUAGn1I0VME0hhSVe/p8d9E46VTRKaaxhbTJdji\n",
              "M26/ixhgVx6N5T6VsYZAiqjEh1hkC3Quqz4VHYEUiHSh7Lq18q0DoXuzEAv0OWfFcMsygTSG9OYz\n",
              "JFKPja8+8pbpEmCzxhaf6RIQIrF8Uo4Wdv0LNrVE733tK6obTZcQVgik6NLZHyr94p1G6uipfVUN\n",
              "pktAH5BHYtsjDPyKeHb1IXXafB9Ry7LC5gtPoPNUawzfIIJAGkN6c5nl7APXGccwewRfuJwwYMZ/\n",
              "vEogjXS7jtgziNbltPecc/6SjTp/ycaw6Nb10oeVHZ6L5VZTAmmMeGf/cW0MsPN3J4a/rIUFgll0\n",
              "aIziy46IPbuOdH9rz1/Z1Mr99t7jtqznbE+89VlQ1ttXf9sXnP/fSMDE+DHgwPFT+vYT7/bqb3dW\n",
              "1NhbDHqkweNVWgxOoh5tMdzTar41BrDLuweqQ/Zemz87EZT1NnrCs0/6toOxe5MBWkhjwNKNH9u2\n",
              "ruMNjHQOpVc/js37ewdqGG7wRG4r457PO96RBYhU/hievB3BQyCNAa/sjs1QEw3+95qdpkswItDp\n",
              "bu5Z93yOJHN+t8V0CUBUWPveIf2+tLzP62kJgz6kaI9ACiDsBOo72+KNnhNIVX2z6RKAXjtlaAq2\n",
              "5laffvSHnfrJug91so/zEtsRanuqqcWnFW/s1/5jzAITCIEUQExqMjivqT96snVEaPB4dSqCu3yE\n",
              "m2feDX2YkyTfGV0FTvVioOCZX3TrmkO/Pzzy2l4te/kTXfXLN7pcrtXn19Ha2PvSGpRAunfvXk2d\n",
              "OlWFhYUqLi7Wrl27Ai735JNPqqCgQCNHjtSCBQvU2toajHKigsfrU3Pr6ROoz2/pcE2TpNOtRr4+\n",
              "9Oc58wD9cv291de/B77U2RyGVXX2fEi/svtzXfAvf9byv35qy/p6quJk7E7tEmqtPr8uuv8vGnP/\n",
              "X+TlMq0tapvMnKvP7Ivdm7mmTXdfe+/g3weDvdbF+IAbf/uOJi97TR8e6jibwf98WqV//dPuqLpi\n",
              "9KWgjLJftGiRFi5cqHnz5un555/XvHnztHXr1nbLHDhwQPfdd5/ef/99DRkyRLNmzdLvfvc7ff/7\n",
              "3w9GScZU1Tfr5pXvak6xW9+dlqdjDR79z6fHdP8fd6mpBwFu1L1/7naZkYNT9Nh3JqrVa8nj9Wnd\n",
              "9sO6qTin0+X//ZU9WvHmfjWfMQI4d2Cy7v36hTpa16yL3QMC/t23fvuOZlw4RNeMGaqXP6rUvqoG\n",
              "Tcjpr/v+uEvXjxum/3vjOLmcDp3y+OSMc6js+Ck5HNKY8zLU4vUr3ulQ85f/bfXr06P1ys9K1YDk\n",
              "eDkcDjW3+lTX1Kqs9KS297QsS44vJlK1LEtNrT797s3P9K2LszudrP/lDys1ZeRAtXj9ykpPUlV9\n",
              "s/79lb26+oIsjR2eoc/rPBqSkah+8U6lJrrkt06fvJLinfL6/Pr083plpSVpQHK8/rjjiCRpfE6G\n",
              "jtZ6NGXkQL372QkVDk2TJB2tbVbeoBS98ekxTR05UC0+v9KSXNr0yTG5nA5dO2aoPF6fEpxxcjgc\n",
              "avB4lZLgVG1Tqw6dbNKooWmd3kmrudUn1xfzv35ytF4NHq9GDEpRRnK8Wn2WUhKc8votnWhoUb94\n",
              "p/olOBXnkBpbfYqPi1O/BKd8fkvOOEfbdrQsS+8dPKmRg1M1ICWh3XZubPEpJdHV9rvH61d5daPq\n",
              "m726OHeAjtQ0KSXRpYx+8e3+zuFwqK65VcnxTlWcbJIrzqGczGQ1t/r06dF6jR2eoUMnm5SZmiCH\n",
              "Ts9p+/onVZo8YqAsy1Jygkutfr9ccQ7tDPBBLEm/fWO/Zlw4ROOy+ys5/vT/d4PHqwHJ8ar3eJWW\n",
              "6JLXb6nR45PH51PpgWpdmj9ISfFOWZbU1OpTaqJLC57eJkn61ev7dNv0fFmWlBQf17aPNbf65Lcs\n",
              "eVr9bdvno8O1SnDFqcHj1VNvH9BPvjpa2QOS2/7//Vb7eXoty1J5daOGZiTpbLMf36yd/3KNMpLj\n",
              "1dx6er+QpKp6j3yWpR3lNcpKT9TIwanKTElo2741jS3aXVmnMcMyVFXfrJzMZDkcp1tc+yU4dfDE\n",
              "KTW3+pU7MFnOOIfKqxv11NsHdOvUPI0YlKK6Zq/qm1uVPSBZh082aXdlnbLSEzV6aJr6xTt18ESj\n",
              "BiQn6Pdby/XGnmP6ziW5+sroLNU3t2pgaqJOnPLI67M0LCNJLT6/nA6HXF/U7vH6lOg6va+1+vw6\n",
              "Vu+RJA1ISVDqF/tTTWOLXtn9uSa4+6vB49P47Aw1t/q19v1DHbaRz29p0ydVyh2YrBGDU+WMc6ii\n",
              "ulGf1zXr4twB8vktxTkcOtXiVWqiSw6HQ0dqmjQoNVEer0/9vtg/Ss8YEf6nD47ohqLh8votxTv/\n",
              "3h5T09iion99RZJ0YNnX5PVb+uBQjSqqm7T/WIM27z+hOcU5umLUYGWlJenPH1UqLSleE9z99dbe\n",
              "47Is6bqLhsqyLFXVe3ToZJMmuvvL57d04lSLMlMS5HQ4FBfnaPsMdJwxMbTX59f75TV6e99x3XyJ\n",
              "W7sr65SflarURJdafH6V/OI1TR81WE/NK1arz1J59SlJ0vmDUrW3ql47yms0LX+QquqbNT67v/yW\n",
              "dMrj1YCUBHl9fu2oqJEzzqFBqYnaW1WvXYfrNKc4RwmuOH12/JQm5PRXVb1HpQeqNXpomoZmJOnx\n",
              "N/brsU37JUlP3jpJSzd+rP3HTgU8LjvT4vXLb1k6UtMkzxf/30PSk5Tocireefpz8GhtszJTEtTi\n",
              "8yszJSFg0Dze4NGg1ER94zfvtD03b9VWrZw7SY2tp/ej/v0SVNfcqpREV9sx4/Vbera0XK9/UqX/\n",
              "+fRYh/VW1japX7yz7TMxKd6pphafyk6c0rsHquXzW8obmKLUJJdqGlv04aFapSS6tOiKEfrkaL0+\n",
              "rqzTizsrNbPoPKUmunTBsHQluuJU3+yVx+tTq89S9oB+er/8pG5/Znu79/7ef27rdLt98MXn33+8\n",
              "ukeD0xJV29SqW6bkaqJ7gOatOp2lnvrbAU3LH6iy4436r++VaMTg1B7924Qjh2XzRIdVVVXKz89X\n",
              "dXW1XC6XLMvSsGHD9Pbbbys/P79tuYceekj79+/X448/LknauHGjli5dqrfffvuc32vx4sVavny5\n",
              "neWfs1bf6QPteEOL7ln/YcCdHQAAIFRGDUlTWpJLv735YmX0i1eCK3J6ZtreQlpRUaFhw4bJ5Tq9\n",
              "aofDIbfbrfLy8naBtLy8XLm5uW2/5+Xlqby8834pHo9HHo+n3XM+X2guEbd4/Zq9YrO8Pr9td58A\n",
              "AACw06dfdGso/sWr3S5b9uDXg11Oj0RMdF62bJkyMjLaPUpLQzMNjDPOoZ0VNYRRAACAILA9kObk\n",
              "5KiyslJe7+kRbJZlqby8XG63u91ybrdbBw8ebPu9rKyswzJnWrJkiWpra9s9SkpK7C4/IGecQyvn\n",
              "TtJ/frdE37mk8xoBAADC3TMLLjFdQge2X7LPysrSxIkTtXr1as2bN09r165VdnZ2u8v1knTjjTfq\n",
              "0ksv1U9/+lMNGTJEjz/+uG666aZO15uYmKjExMR2zzmdgQezBMPVFw6RJF1ROFi/+MbYbpf/cpDD\n",
              "v/35E614MzzvmQsEmzPO0adZIBC+zstI0pEYnJoGCDdbllyltCSXkhOc7QbLRZqgjLJfsWKF5s2b\n",
              "p6VLlyo9PV2rVq2SJM2fP18zZ87UzJkzNWLECP3sZz/TtGnTJElXXnmlFi1aFIxyjHA4HHI6pLuv\n",
              "G62RWam6OHeARp41Cq62qVV1Ta16Z/9xvfZxlX50zSiNGpomy7J0/pKNAde74fZpumBYusqOn9Ku\n",
              "I3X64ZodkqRdP7tWKYkutXj9ev69Qxo7PEPugcnK6BevvJ+8FHBdX/6NJO2oqNGSdR/qvq9foKn5\n",
              "g+Tx+vThoVp96/HNHf7urbum699f3aPbrsxXflZ4jOwL9P8YrP4xZ474t1so/z/C2Yo39mvZy590\n",
              "eP7VxZcrPyutz+u/7j/e1CdHT/e16un29fr8+rzeo/Myks55Pzj73/Xer1+g+ZeN6NH7RotAx09z\n",
              "q0+j72s/k4hd+/3xBo8mPXC6P93We67W4LTEgMvVNrVKlpSRHK/GFq+SE4Jyeowomz6tUr94pyaP\n",
              "GCjp9L+dz28p/56Xz+nve/tvePbxsn/p1+SMc+iGx/6mHRU1kqQn5k7SjC8air6cDSQpwIwrx+o9\n",
              "eu9gta66YIg2fVKlhf/1Xp/r66lTHq8u/7dNOnHGZP6fLf2aRvyfwOf5Lz327YmaPnpwu33xhe2H\n",
              "dc/6D7Vm0RSNOS89ogPo2YJyxI0aNUqbN3cMMitXrmz3+4IFC7RgwYJglBA24uIc+sdJgadeyugX\n",
              "r4x+8ZqT6dac4r93BQi0gz393RKdbGzRuOz+kqSCIWkqGJKmGyYMb7dcgitO3z7HbgVfhlFJKsrp\n",
              "r5d/cFnb74kupyblZQb8u5zMZC3/x6Jzeo9oFE0fAOGqf3J8wOfP/lLXWy/ecalKy6o1ISfw1GZd\n",
              "cTnjNLx/vz69/8gw+SJnQqDjJ1CQsMug1ER979Lz5ZA6DaOS2k1jRhg9bfqorHa/OxwOuZyh//z7\n",
              "cjq1h2eP09XL35QkDTjjM8LhcHS6Dw1OS9R1Fw2TJI0YnBLkSgNLSXTpvftmaPrD/6MDx09PnRUX\n",
              "1/l23PPAV3WswRPwc+aGCcM7nPejRcQMaop1lxcO1qyi0O+EnQUDIJgcnczKateXAZczTlNHDlK/\n",
              "hNB1+znT5PMHGnnfWHXf9Rfq3usvNF1G1PjFNy4y8r6D0/4+p+95vfhSmJOZbGc5PfbVi4ZKkrr7\n",
              "GEtw9f1LbyTiayC6lBhBc5ghejT24raA4SwzJUHVZ1yuMxWEATtkpXW82UMonHk+cnXRwtiZM7/o\n",
              "/uOkbFtq6ok7rypQVlqipo/O6n7hGEQgjQHnD0ppu0zQU521VCE0SjrpNhGLHvxm94MJw9Xg1MR2\n",
              "gRRAzyXFO3XP1y5QY4uv3Z38ztWZGXZ4/9C3libFOzVv2vkhf99IQfNXDLjjK/ndL9SJXnwJhY2W\n",
              "zxlvugQjAl2aLxgSuf0un/5eaKaoA8LFwDNuSWynBZeP0A+uLujV38ad8bliidk/wg2BNAZ8Y8Lw\n",
              "dh32e4IBPGYNy4i9fkRS4C9Ckbwvcoke0eRcjsRwPFzDsaazLZ5RaLoEYwikMcDhcGjn/dfoP79L\n",
              "K02kccZqE3WAM0dcJJxNgBiQO7D7y93xTnvixcW5PZ8JozNnfqmdOyXPtvXaaUh65zNBRDv6kMaQ\n",
              "3pzOyQAwIWALaejLsE0q0wghigzJ6L7/5g+u6t1l9bPlDbR3qqbd/3qtWrx+9U8OTpeCnpg8IlNb\n",
              "Pqs2XUbYoIU0htBjBpEi0GC6SG4h7WrOQXT0NFdzwtq57M1dzfnaE3YfOskJrrAIo5I0KbfjoFUr\n",
              "hk/UBFJ0KVIzwJ9uv9R0CbBZahKtjLHi8sLBpktAF0LZnztSz0HnIlBLcwznUQIpuhaprVJjszNM\n",
              "l4A+CNQqkk4gBcJCKAc1mbghTKgE+kyjhRQxoTedpSMzjiLSBTqZDUyNjs7+144ZYroEIGJMHRm9\n",
              "dzWL5fAZCIE0howemm66BOCcRPMNGQaESf81oLcSzuEOfnYdw5E83Vt3As2FGsvzoxJI0aVo/jBA\n",
              "+Irm3S4W71GN6GLXlE7oKJZbTdmr0KUozgVASP3X90p0y+RcLbh8hOlSANvceVWBvjkxQD9PTh7d\n",
              "unbM0A5fUM+l9TlaMUoAXYrmlioglC4rGKzLChg93pkEZ5xafH7TZeAcvXfv1ao+1aKCIWna9GmV\n",
              "1r1/2HRJESc5waW37pquEf9nY9tzXxmdZbAis2I3iuOccMkeJkTq7A7ovVlF55kuAT0wMDVRBUPS\n",
              "JAU+XjmCz01cnENpiX9vG3TF8JzFBFJ0KX9wqukSEIPIo7EnhrvORTxngAO28Iuwiu79r+kj236O\n",
              "5gGd3SGQoktfHTvUdAmIQQTS2DN6KAEmUgW6t31KIj0Cz1Uq20oSfUjRDS7Zw4R+8U7TJSDE5k7J\n",
              "U3Orj362ESgxvmPbVl9OHYPTEnWs3tOHiiLLmZsqlqd9IpCiSzHcnQUGTcrreI9nRLcEV5xu/0qB\n",
              "6TJgk770A88fnBpTgRSncckeXTr7Q4UGU4QCuxkQOQJdcuYydO/QhxToxNmHxk3FbiN1AADCU3KC\n",
              "S88suMS29V0ygisksYhAii6d3SKa4Izdb28AgMCmjhxk27pSEmKsdZVLj5IIpOghBjkBAGAfzqqn\n",
              "EUjRJQIoACCUkgKM2kf0i7F2cfTU2XGUfIpQiN2JTwDMnpSjFz+o1BWjYmMKsJzMjvO4xiICKbp0\n",
              "dgtpLI8ABAAEX1K8U2sWTTFdRsiM4q5Wkrhkj26cHT+d7DEAAMBmxAt06exL9JNHDDRTCAAAiFoE\n",
              "UnTp7Fs4TnQPMFQJAACIVgRSdGlibvsAOiAlwVAlAAAgWhFII8Cg1ETTJQAAAAQNgRRdYponmNC/\n",
              "X7zpEgAgJOLOTGIxfM5l2qcIQChErHExnQOAGJGVlqRvThiuuDiHMmL4yziBNAKYzKPMOwoAQHAt\n",
              "n1NkugTjaIaIACbvWkPrLAAACDYCaQSwDCbSeC6dAgCAICNtICoU5fQ3XQIAAOglAmkE4LJ5966+\n",
              "IMt0CQAAoJdsDaR+v1933HGHRo4cqfz8fD366KOdLnvnnXcqLy9PDodDO3bssLMMAAAARBBbA+nq\n",
              "1au1e/du7dmzR6WlpXrooYe0a9eugMt+61vf0ttvv63c3Fw7S4hKNJACAIBoZmsgXbNmjRYsWCCn\n",
              "06nMzEzNmTNHzz77bMBlL7/8cmVnZ9v59lHL5Cj7SOGIkn4N/ZNjdw46AEDssnUe0vLy8nYtnnl5\n",
              "edqyZYst6/Z4PPJ4PO2e8/l8tqwbkc8yORWBjZxREqztNnZ4hukSAABB1KMW0ilTpmjQoEEBHxUV\n",
              "FcGqUZK0bNkyZWRktHuUlpYG9T3DxWUFg0yXEFHYXtHn/EEppksAAARRjwLp5s2bdfz48YCPnJwc\n",
              "ud1uHTx4sG35srIyud1uWwpdsmSJamtr2z1KSkpsWXe4y83kZNyd8/r3a/t5YEqCwUr6Jicz2XQJ\n",
              "AACEnK19SGfPnq0nnnhCPp9P1dXVWrNmjebMmWPLuhMTE5Went7u4XQ6bVk3It+Y8/5+STeSL95f\n",
              "NZrpqwAAscfWQHrLLbdo9OjRKigoUHFxsRYvXqyxY8dKkjZs2KD58+e3Lbto0SJlZ2fr0KFDuvba\n",
              "a5Wfn29nKVFl1NBU0yUgROhCGlgkf8kAAHTP1kFNTqdTjz32WMDXZs6cqZkzZ7b9vmLFCjvfOqo5\n",
              "47h/QU9Ecqa7clSWHv7rHtNlAAAQUiSdCBDJAStURg6Ojn62FzGaPCCOAQCIbgTSCMDlyu65nOzK\n",
              "AABEKs7iiDr/MP480yXAZjMuHGK6BABAENnahxT2OX9Qig4cPyWJy5Xn6t6vX6B9VQ36CiPVo07B\n",
              "EAb2AUA0I5CGqW+XuPWLjR+bLiOizL9shOkSAABAL3DJPkwNH9Cv+4WAGOHgOgEARDUCKQAAAIwi\n",
              "kAIAAMAoAmmYOvMCZVoSXX0BAED0IpCGqTNvIZk3KDomfQd6i1uqAkB0I5DGqNkXZ5suAQAAQBKB\n",
              "NGbR4gQAAMIFgRQAAABGEUjRLXdmsiRpfE5/s4UAAICoxPBtdOuZBZfomXfLdevUPNOlIEbRwwQA\n",
              "ohuBNGyFzyk4e0Cy7rputOkyAABAlOKSfZhKP2Pu0ay0RNvXb1m2rxIAAKBXCKQRwMGQeAAAEMUI\n",
              "pAAAADCKQBqmzh/M3ZmAL3GRAACiG4OawtSwjH764/enKaNfvOlSAAAAgopAGsaCOe8nY5oAAEC4\n",
              "4JI9AAAAjCKQAgh72QOSTZcAAAgiAikQpgYHYf7ZSJUU7zRdAgAgiAikQJi6NH+Q6RIAAAgJAmmM\n",
              "4k5NAAAgXBBIAQAAYBSBFAAAAEYRSAEAAGAUgRQIM5NHZEqSvn2J23AlAACEBndqilHxTm4OHq5W\n",
              "f+8SnTjVoiHpSaZLAQAgJGghjTH3fv0CjRycosUzCk2Xgk64nHGEUQBATKGFNMbMv2yE5l82wnQZ\n",
              "AAAAbWghBQAAgFEEUgAAABhFIAUAAIBRBFIAAAAYRSAFAACAUbYGUr/frzvuuEMjR45Ufn6+Hn30\n",
              "0YDLNTc364YbblBhYaHGjx+vGTNmaN++fXaWAgAAgAhhayBdvXq1du/erT179qi0tFQPPfSQdu3a\n",
              "FXDZhQsX6tNPP9XOnTs1a9YszZ8/385SAAAAECFsDaRr1qzRggUL5HQ6lZmZqTlz5ujZZ5/tsFxS\n",
              "UpK+9rWvyeE4fbegyZMnq6yszM5SAAAAECFsnRi/vLxcubm5bb/n5eVpy5Yt3f7dI488olmzZnW5\n",
              "jMfjkcfjafecz+frXaEAAAAIGz0KpFOmTNHevXsDvrZ9+/ZeFbB06VLt27dPr732WpfLLVu2TD/7\n",
              "2c/aPTd58uRevScAAADCR48u2W/evFnHjx8P+MjJyZHb7dbBgwfbli8rK5Pb7e50fQ8//LDWrVun\n",
              "l19+WcnJyV2+95IlS1RbW9vuUVJS0pPyAQAAEIZs7UM6e/ZsPfHEE/L5fKqurtaaNWs0Z86cgMsu\n",
              "X75czz77rF555RX179+/23UnJiYqPT293cPpdNpZPgAAAAywNZDecsstGj16tAoKClRcXKzFixdr\n",
              "7NixkqQNGza0jaQ/dOiQfvSjH6mmpkbTp09XUVGRLrnkEjtLAQAAQISwdVCT0+nUY489FvC1mTNn\n",
              "aubMmZKk7OxsWZZl51sDAAAgQnGnJgAAABhFIAUAAIBRBFIAAAAYRSAFAACAUQRSAAAAGEUgBQAA\n",
              "gFEEUgAAABhFIAUAAIBRBFIAAAAYRSAFAACAUQRSAAAAGEUgBQAAgFEEUgAAABhFIAUAAIBRBFIA\n",
              "ANBnRTn9TZeACEYgBRCWLi8cbLoEAECIEEgBhKX4OIfpEgAAIUIgBQAAgFEEUgBh6fxBKaZLAACE\n",
              "iMt0AQAQyA9nFMrrt/T1ccNMlwIACDICKYCwlJro0k9njjFdBgAgBLhkDwAAAKMIpAAAADCKQAoA\n",
              "AACjCKQAAAAwikAKAAAAowikAACgzxzcXA19QCAFAACAUQRSAAAAGEUgBQAAgFEEUgAAABhFIAUA\n",
              "AIBRBFIAAAAYRSAFAACAUQRSAAAAGEUgBQAAgFEEUgAAABhFIAUAAIBRtgZSv9+vO+64QyNHjlR+\n",
              "fr4effTRTpe95pprNG7cOBUVFemyyy7T9u3b7SwFAAAAEcJl58pWr16t3bt3a8+ePaqtrdWECRM0\n",
              "ffp0jRkzpsOyzz33nPr37y9JWr9+vebNm6edO3faWQ4AAAiROZNytL28RkU5/U2XgghkawvpmjVr\n",
              "tGDBAjmdTmVmZmrOnDl69tlnAy77ZRiVpNraWjkcDjtLAQAAITSnOEd//P40PbtgsulSEIFsbSEt\n",
              "Ly9Xbm5u2+95eXnasmVLp8vPnTtXmzZtkiRt3Lixy3V7PB55PJ52z/l8vj5UCwAA7OJwODSe1lH0\n",
              "Uo9aSKdMmaJBgwYFfFRUVPT4zZ9++mlVVFTogQce0N13393lssuWLVNGRka7R2lpaY/fEwAAAOGl\n",
              "R4F08+bNOn78eMBHTk6O3G63Dh482LZ8WVmZ3G53t+u99dZbtWnTJp04caLTZZYsWaLa2tp2j5KS\n",
              "kp6UDwAAgDBkax/S2bNn64knnpDP51N1dbXWrFmjOXPmdFiupqZGR44cafv9hRde0MCBA5WZmdnp\n",
              "uhMTE5Went7u4XQ67SwfAAAABtjah/SWW27R1q1bVVBQIIfDocWLF2vs2LGSpA0bNmjDhg1auXKl\n",
              "amtrNXv2bDU1NSkuLk6DBw/Wiy++yMAmAACAGOSwLMsyXURvLV68WMuXLzddBgAAAPqAOzUBAADA\n",
              "KAIpAAAAjCKQAgAAwCgCKQAAAIwikAIAAMAoAikAAACMiuhpn775zW8qLy8vJO/l8/lUWlqqkpIS\n",
              "JuTvJbahPdiOfcc27Du2Yd+xDe3Bduy7YG/D3Nxc/eAHP+hymYgOpKFUV1enjIwM1dbWKj093XQ5\n",
              "EYltaA+2Y9+xDfuObdh3bEN7sB37Lhy2IZfsAQAAYBSBFAAAAEYRSAEAAGAUgfQcJSYm6v7771di\n",
              "YqLpUiIW29AebMe+Yxv2Hduw79iG9mA79l04bEMGNQEAAMAoWkgBAABgFIEUAAAARhFIAQAAYBSB\n",
              "9Bzs3btXU6dOVWFhoYqLi7Vr1y7TJYXMnXfeqby8PDkcDu3YsaPt+a62SahfC3fNzc264YYbVFhY\n",
              "qPHjx2vGjBnat2+fJKmqqkrXXXedCgoKdNFFF+nNN99s+7tQvxYJrrnmGo0bN05FRUW67LLLtH37\n",
              "dknsj72xatUqORwOvfDCC5LYF3siLy9Po0aNUlFRkYqKirRmzRpJ7Ic94fF4dPvtt6ugoEBjx47V\n",
              "zTffLIlt2BMnTpxo2weLiopUWFgol8ul6urqyDyeLXRr+vTp1qpVqyzLsqw//OEP1qRJk8wWFEJv\n",
              "vPGGVVFRYeXm5lrbt29ve76rbRLq18JdU1OT9dJLL1l+v9+yLMv69a9/bV1xxRWWZVnWP//zP1v3\n",
              "33+/ZVmWVVpaag0fPtxqaWkx8lokOHnyZNvP69ats8aNG2dZFvtjTx04cMCaMmWKNXnyZGv9+vWW\n",
              "ZbEv9sTZn4dfYj88dz/84Q+t22+/ve1zsbKy0rIstmFfPPTQQ9b1119vWVZkHs8E0m58/vnnVlpa\n",
              "mtXa2mpZlmX5/X5ryJAh1t69ew1XFlpnfgB3tU1C/Vok2rp1q5Wbm2tZlmWlpKS0fRBblmUVFxdb\n",
              "r7zyipHXIs2qVaus8ePHsz/2kM/ns6666ipr27Zt1hVXXNEWSNkXz12gQMp+eO4aGhqstLQ0q7a2\n",
              "tt3zbMO+GT16dEQfz67eNRTHjoqKCg0bNkwu1+lN5XA45Ha7VV5ervz8fMPVmdHVNsnIyAjpa5H4\n",
              "b/DII49o1qxZOnHihFpbWzV06NC21/Ly8lReXh7y1yLJ3LlztWnTJknSxo0b2R97aPny5Zo2bZou\n",
              "vvjitufYF3tu7ty5sixLJSUlevDBB9kPe2D//v3KzMzU0qVL9eqrr6pfv3766U9/qv79+7MNe+md\n",
              "d97RyZMndf3110fs8UwfUiCEli5dqn379mnZsmWmS4lYTz/9tCoqKvTAAw/o7rvvNl1ORPnoo4+0\n",
              "du1a3XvvvaZLiWhvvvmmPvjgA73//vsaNGiQbr31VtMlRRSv16uDBw/qwgsv1LZt2/SrX/1Kc+bM\n",
              "kdfrNV1axHryySc1d+7ctnAdiQik3cjJyVFlZWXbgWJZlsrLy+V2uw1XZk5X2yTUr0WShx9+WOvW\n",
              "rdPLL7+s5ORkDRw4UC6XS0ePHm1bpqysTG63O+SvRaJbb71VmzZtUnZ2NvvjOXrrrbdUVlamgoIC\n",
              "5eXlacuWLVq4cKGee+459sUe+LLO+Ph4/fCHP9Rbb73F52IPuN1uxcXF6Tvf+Y4kacKECTr//PN1\n",
              "8OBBtmEvNDQ06LnnntN3v/tdSYrcc0uPLvDHqCuuuKJdp+eLL77YbEEGnN1nqqttEurXIsEvf/lL\n",
              "a+LEiVZ1dXW752+99dZ2HcHPO++8to7goX4t3J08edI6fPhw2+/r16+3hg8fbvn9fvbHXjqzDyn7\n",
              "4rlpaGhoN7jul7/8pXXZZZdZlsXnYk/MmDHDeumllyzLsqzPPvvMGjhwoHXo0CG2YS+sXLnSmjZt\n",
              "WrvnIvF4JpCeg08++cSaPHmyVVBQYF188cXWBx98YLqkkFm4cKE1fPhwy+l0WllZWdbIkSMty+p6\n",
              "m4T6tXBXUVFhSbJGjBhhjR8/3ho/frxVUlJiWZZlHT161JoxY4aVn59vXXjhhdbrr7/e9nehfi3c\n",
              "lZWVWcXFxdZFF11kjRs3zrrqqqvaviSxP/bOmYGUffHc7N+/3yoqKrLGjh1rXXTRRdbMmTOtAwcO\n",
              "WJbFftgT+/fvt6688sq24/n555+3LItt2BtTpkyxnnrqqXbPReLxzL3sAQAAYBR9SAEAAGAUgRQA\n",
              "AABGEUgBAABgFIEUAAAARhFIAQAAYBSBFAAAAEYRSAEAAGAUgRQAAABGEUgBAABgFIEUAAAARhFI\n",
              "AQAAYNT/B4t+8moq2uN1AAAAAElFTkSuQmCC\n",
              "\">\n",
              "      </div>\n",
              "      <script type=\"text/javascript\">\n",
              "        (() => {\n",
              "          const chartElement = document.getElementById(\"chart-fb9507f0-9a4f-4ae4-9698-f399250e143a\");\n",
              "          async function getCodeForChartHandler(event) {\n",
              "            const chartCodeResponse =  await google.colab.kernel.invokeFunction(\n",
              "                'getCodeForChart', [\"chart-fb9507f0-9a4f-4ae4-9698-f399250e143a\"], {});\n",
              "            const responseJson = chartCodeResponse.data['application/json'];\n",
              "            await google.colab.notebook.addCell(responseJson.code, 'code');\n",
              "          }\n",
              "          chartElement.onclick = getCodeForChartHandler;\n",
              "        })();\n",
              "      </script>\n",
              "      <style>\n",
              "        .colab-quickchart-chart-with-code  {\n",
              "            display: block;\n",
              "            float: left;\n",
              "            border: 1px solid transparent;\n",
              "        }\n",
              "\n",
              "        .colab-quickchart-chart-with-code:hover {\n",
              "            cursor: pointer;\n",
              "            border: 1px solid #aaa;\n",
              "        }\n",
              "      </style>"
            ]
          },
          "metadata": {}
        }
      ]
    },
    {
      "cell_type": "code",
      "source": [],
      "metadata": {
        "id": "tKyfAjUl0r6A"
      },
      "execution_count": null,
      "outputs": []
    }
  ]
}